{
 "cells": [
  {
   "cell_type": "markdown",
   "metadata": {},
   "source": [
    "# Title\n",
    "\n",
    "**Objective:**  \n",
    "\n",
    "**Author:** "
   ]
  },
  {
   "cell_type": "code",
   "execution_count": 1,
   "metadata": {},
   "outputs": [],
   "source": [
    "import os, sys, json\n",
    "import pandas as PD\n",
    "import numpy as NP"
   ]
  },
  {
   "cell_type": "code",
   "execution_count": 2,
   "metadata": {},
   "outputs": [
    {
     "name": "stdout",
     "output_type": "stream",
     "text": [
      "C:\\Documents\\Code\\OpenStack\\Current\\MediaManager\\codebase\\base_module\n"
     ]
    }
   ],
   "source": [
    "MODULE_PATH = os.path.dirname(os.getcwd())\n",
    "DATA_PATH = os.path.join(MODULE_PATH, 'data')\n",
    "LOGIC_PATH = os.path.join(MODULE_PATH, 'logic')\n",
    "sys.path.append(LOGIC_PATH)\n",
    "print(MODULE_PATH)"
   ]
  },
  {
   "cell_type": "code",
   "execution_count": 3,
   "metadata": {},
   "outputs": [
    {
     "name": "stdout",
     "output_type": "stream",
     "text": [
      "['getNowStamp']\n"
     ]
    }
   ],
   "source": [
    "import utility as UT\n",
    "print([x for x in dir(UT) if '_' not in x and len(x) > 8])"
   ]
  },
  {
   "cell_type": "code",
   "execution_count": 4,
   "metadata": {},
   "outputs": [],
   "source": [
    "%load_ext autoreload\n",
    "%autoreload 2\n",
    "from IPython.core.interactiveshell import InteractiveShell\n",
    "InteractiveShell.ast_node_interactivity = 'all'\n",
    "import IPython.display as DS \n",
    "from ipywidgets import IntProgress"
   ]
  },
  {
   "cell_type": "markdown",
   "metadata": {},
   "source": [
    "### Begin Code"
   ]
  },
  {
   "cell_type": "code",
   "execution_count": 5,
   "metadata": {},
   "outputs": [
    {
     "data": {
      "application/vnd.jupyter.widget-view+json": {
       "model_id": "ed064039a1b542e09112faad6de48d83",
       "version_major": 2,
       "version_minor": 0
      },
      "text/plain": [
       "IntProgress(value=0)"
      ]
     },
     "metadata": {},
     "output_type": "display_data"
    }
   ],
   "source": [
    "# progress bar\n",
    "\n",
    "progressBar = IntProgress(min=0, max=100) \n",
    "DS.display(progressBar) \n",
    "\n",
    "progressBar.value += 50"
   ]
  },
  {
   "cell_type": "code",
   "execution_count": 6,
   "metadata": {},
   "outputs": [
    {
     "name": "stdout",
     "output_type": "stream",
     "text": [
      "data\n",
      "logic\n",
      "notebooks\n"
     ]
    }
   ],
   "source": [
    "# list folders of a directory\n",
    "\n",
    "folderLs = [f.name for f in os.scandir(MODULE_PATH) if f.is_dir()]\n",
    "\n",
    "for f in folderLs:\n",
    "    print(f)"
   ]
  },
  {
   "cell_type": "code",
   "execution_count": 7,
   "metadata": {
    "scrolled": true
   },
   "outputs": [
    {
     "name": "stdout",
     "output_type": "stream",
     "text": [
      "C:\\Documents\\Code\\OpenStack\\Current\\MediaManager\\codebase\\base_module\\data\\base.db\n",
      "C:\\Documents\\Code\\OpenStack\\Current\\MediaManager\\codebase\\base_module\\data\\brickset_set_filter.csv\n",
      "C:\\Documents\\Code\\OpenStack\\Current\\MediaManager\\codebase\\base_module\\data\\lego_set.jpg\n"
     ]
    }
   ],
   "source": [
    "# list files of a directory\n",
    "\n",
    "fileLs = [f.path for f in os.scandir(DATA_PATH) if not f.is_dir()]\n",
    "\n",
    "for f in fileLs:\n",
    "    print(f)"
   ]
  },
  {
   "cell_type": "code",
   "execution_count": 8,
   "metadata": {},
   "outputs": [],
   "source": [
    "# create directory\n",
    "\n",
    "fullPath = os.path.join(DATA_PATH, 'python_dir') \n",
    "\n",
    "if not os.path.exists(fullPath):\n",
    "    os.mkdir(fullPath)"
   ]
  },
  {
   "cell_type": "code",
   "execution_count": null,
   "metadata": {},
   "outputs": [],
   "source": []
  },
  {
   "cell_type": "code",
   "execution_count": null,
   "metadata": {},
   "outputs": [],
   "source": []
  },
  {
   "cell_type": "code",
   "execution_count": null,
   "metadata": {},
   "outputs": [],
   "source": []
  },
  {
   "cell_type": "code",
   "execution_count": null,
   "metadata": {},
   "outputs": [],
   "source": []
  },
  {
   "cell_type": "code",
   "execution_count": null,
   "metadata": {},
   "outputs": [],
   "source": []
  },
  {
   "cell_type": "code",
   "execution_count": null,
   "metadata": {},
   "outputs": [],
   "source": []
  }
 ],
 "metadata": {
  "kernelspec": {
   "display_name": "Python 3",
   "language": "python",
   "name": "python3"
  },
  "language_info": {
   "codemirror_mode": {
    "name": "ipython",
    "version": 3
   },
   "file_extension": ".py",
   "mimetype": "text/x-python",
   "name": "python",
   "nbconvert_exporter": "python",
   "pygments_lexer": "ipython3",
   "version": "3.8.2"
  }
 },
 "nbformat": 4,
 "nbformat_minor": 4
}
