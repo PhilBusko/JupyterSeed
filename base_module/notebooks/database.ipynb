{
 "cells": [
  {
   "cell_type": "markdown",
   "metadata": {},
   "source": [
    "# Database Processes\n",
    "\n",
    "**Objective:** Sample code for generic database operations.\n",
    "\n",
    "**Author:** Phil Busko"
   ]
  },
  {
   "cell_type": "code",
   "execution_count": 1,
   "metadata": {},
   "outputs": [],
   "source": [
    "import os, sys, json\n",
    "import pandas as PD\n",
    "import numpy as NP"
   ]
  },
  {
   "cell_type": "code",
   "execution_count": 2,
   "metadata": {},
   "outputs": [
    {
     "name": "stdout",
     "output_type": "stream",
     "text": [
      "C:\\Documents\\Code\\OpenStack\\Current\\MediaManager\\codebase\\base_module\n"
     ]
    }
   ],
   "source": [
    "MODULE_PATH = os.path.dirname(os.getcwd())\n",
    "DATA_PATH = os.path.join(MODULE_PATH, 'data')\n",
    "LOGIC_PATH = os.path.join(MODULE_PATH, 'logic')\n",
    "sys.path.append(LOGIC_PATH)\n",
    "print(MODULE_PATH)"
   ]
  },
  {
   "cell_type": "code",
   "execution_count": 3,
   "metadata": {
    "scrolled": false
   },
   "outputs": [
    {
     "name": "stdout",
     "output_type": "stream",
     "text": [
      "['openConnection']\n",
      "sqlite:///C:\\Documents\\Code\\OpenStack\\Current\\MediaManager\\codebase\\base_module\\data\\base.db\n"
     ]
    }
   ],
   "source": [
    "import sqlalchemy as SQL\n",
    "import database_helper as DB\n",
    "print([x for x in dir(DB) if '_' not in x and len(x) > 8])\n",
    "dbPath = os.path.join(DATA_PATH, 'base.db')\n",
    "meta, engine = DB.openConnection(dbPath)"
   ]
  },
  {
   "cell_type": "code",
   "execution_count": 4,
   "metadata": {},
   "outputs": [],
   "source": [
    "%load_ext autoreload\n",
    "%autoreload 2\n",
    "from IPython.core.interactiveshell import InteractiveShell\n",
    "InteractiveShell.ast_node_interactivity = 'all'\n",
    "import IPython.display as DS \n",
    "from ipywidgets import IntProgress"
   ]
  },
  {
   "cell_type": "markdown",
   "metadata": {},
   "source": [
    "### Load From File "
   ]
  },
  {
   "cell_type": "code",
   "execution_count": 5,
   "metadata": {
    "scrolled": false
   },
   "outputs": [
    {
     "data": {
      "text/html": [
       "<div>\n",
       "<style scoped>\n",
       "    .dataframe tbody tr th:only-of-type {\n",
       "        vertical-align: middle;\n",
       "    }\n",
       "\n",
       "    .dataframe tbody tr th {\n",
       "        vertical-align: top;\n",
       "    }\n",
       "\n",
       "    .dataframe thead th {\n",
       "        text-align: right;\n",
       "    }\n",
       "</style>\n",
       "<table border=\"1\" class=\"dataframe\">\n",
       "  <thead>\n",
       "    <tr style=\"text-align: right;\">\n",
       "      <th></th>\n",
       "      <th>set_no</th>\n",
       "      <th>name</th>\n",
       "      <th>price_store</th>\n",
       "      <th>price_new</th>\n",
       "      <th>price_used</th>\n",
       "      <th>rating_value</th>\n",
       "      <th>rating_votes</th>\n",
       "      <th>theme_group</th>\n",
       "      <th>theme</th>\n",
       "      <th>subtheme</th>\n",
       "      <th>main_tag</th>\n",
       "      <th>year</th>\n",
       "      <th>volume</th>\n",
       "      <th>weight</th>\n",
       "      <th>piece_cnt</th>\n",
       "      <th>minifig_cnt</th>\n",
       "    </tr>\n",
       "  </thead>\n",
       "  <tbody>\n",
       "    <tr>\n",
       "      <th>0</th>\n",
       "      <td>858-1</td>\n",
       "      <td>Auto Engines</td>\n",
       "      <td>NaN</td>\n",
       "      <td>NaN</td>\n",
       "      <td>51.0</td>\n",
       "      <td>4.5</td>\n",
       "      <td>2.0</td>\n",
       "      <td>Technical</td>\n",
       "      <td>Technic</td>\n",
       "      <td>NaN</td>\n",
       "      <td>NaN</td>\n",
       "      <td>1980.0</td>\n",
       "      <td>NaN</td>\n",
       "      <td>NaN</td>\n",
       "      <td>242.0</td>\n",
       "      <td>0.0</td>\n",
       "    </tr>\n",
       "    <tr>\n",
       "      <th>1</th>\n",
       "      <td>1591-1</td>\n",
       "      <td>Danone Delivery Truck</td>\n",
       "      <td>NaN</td>\n",
       "      <td>129.0</td>\n",
       "      <td>28.0</td>\n",
       "      <td>NaN</td>\n",
       "      <td>NaN</td>\n",
       "      <td>Modern day</td>\n",
       "      <td>Town</td>\n",
       "      <td>Special</td>\n",
       "      <td>NaN</td>\n",
       "      <td>1980.0</td>\n",
       "      <td>NaN</td>\n",
       "      <td>NaN</td>\n",
       "      <td>40.0</td>\n",
       "      <td>0.0</td>\n",
       "    </tr>\n",
       "    <tr>\n",
       "      <th>2</th>\n",
       "      <td>1592-1</td>\n",
       "      <td>Town Square - Castle Scene</td>\n",
       "      <td>NaN</td>\n",
       "      <td>1168.0</td>\n",
       "      <td>191.0</td>\n",
       "      <td>4.8</td>\n",
       "      <td>4.0</td>\n",
       "      <td>Modern day</td>\n",
       "      <td>Town</td>\n",
       "      <td>Classic</td>\n",
       "      <td>NaN</td>\n",
       "      <td>1980.0</td>\n",
       "      <td>NaN</td>\n",
       "      <td>NaN</td>\n",
       "      <td>471.0</td>\n",
       "      <td>11.0</td>\n",
       "    </tr>\n",
       "  </tbody>\n",
       "</table>\n",
       "</div>"
      ],
      "text/plain": [
       "   set_no                        name  price_store  price_new  price_used  \\\n",
       "0   858-1                Auto Engines          NaN        NaN        51.0   \n",
       "1  1591-1       Danone Delivery Truck          NaN      129.0        28.0   \n",
       "2  1592-1  Town Square - Castle Scene          NaN     1168.0       191.0   \n",
       "\n",
       "   rating_value  rating_votes theme_group    theme subtheme  main_tag    year  \\\n",
       "0           4.5           2.0   Technical  Technic      NaN       NaN  1980.0   \n",
       "1           NaN           NaN  Modern day     Town  Special       NaN  1980.0   \n",
       "2           4.8           4.0  Modern day     Town  Classic       NaN  1980.0   \n",
       "\n",
       "   volume  weight  piece_cnt  minifig_cnt  \n",
       "0     NaN     NaN      242.0          0.0  \n",
       "1     NaN     NaN       40.0          0.0  \n",
       "2     NaN     NaN      471.0         11.0  "
      ]
     },
     "execution_count": 5,
     "metadata": {},
     "output_type": "execute_result"
    }
   ],
   "source": [
    "brickFile = os.path.join(DATA_PATH, 'brickset_set_filter.csv')\n",
    "brickDf = PD.read_csv(brickFile)\n",
    "brickDf.head(3)"
   ]
  },
  {
   "cell_type": "code",
   "execution_count": 6,
   "metadata": {
    "scrolled": false
   },
   "outputs": [
    {
     "name": "stdout",
     "output_type": "stream",
     "text": [
      "<class 'pandas.core.frame.DataFrame'>\n",
      "RangeIndex: 6181 entries, 0 to 6180\n",
      "Data columns (total 16 columns):\n",
      " #   Column        Non-Null Count  Dtype  \n",
      "---  ------        --------------  -----  \n",
      " 0   set_no        6181 non-null   object \n",
      " 1   name          6181 non-null   object \n",
      " 2   price_store   4767 non-null   float64\n",
      " 3   price_new     5780 non-null   float64\n",
      " 4   price_used    5489 non-null   float64\n",
      " 5   rating_value  5005 non-null   float64\n",
      " 6   rating_votes  5005 non-null   float64\n",
      " 7   theme_group   6181 non-null   object \n",
      " 8   theme         6181 non-null   object \n",
      " 9   subtheme      4494 non-null   object \n",
      " 10  main_tag      0 non-null      float64\n",
      " 11  year          6181 non-null   float64\n",
      " 12  volume        2418 non-null   float64\n",
      " 13  weight        2453 non-null   float64\n",
      " 14  piece_cnt     6137 non-null   float64\n",
      " 15  minifig_cnt   6181 non-null   float64\n",
      "dtypes: float64(11), object(5)\n",
      "memory usage: 772.8+ KB\n"
     ]
    }
   ],
   "source": [
    "brickDf.info()"
   ]
  },
  {
   "cell_type": "markdown",
   "metadata": {},
   "source": [
    "### Create Table"
   ]
  },
  {
   "cell_type": "code",
   "execution_count": 7,
   "metadata": {},
   "outputs": [
    {
     "name": "stdout",
     "output_type": "stream",
     "text": [
      "['legoSets']\n"
     ]
    }
   ],
   "source": [
    "# get existing table names\n",
    "# reflect the meta again to refresh any deleted tables\n",
    "\n",
    "meta.clear()\n",
    "meta.reflect()\n",
    "\n",
    "existingTables = list(meta.tables.keys())\n",
    "print(existingTables)"
   ]
  },
  {
   "cell_type": "code",
   "execution_count": 8,
   "metadata": {},
   "outputs": [
    {
     "name": "stdout",
     "output_type": "stream",
     "text": [
      "table legoSets already exists\n"
     ]
    }
   ],
   "source": [
    "# create table if it doesn't already exist\n",
    "\n",
    "tableName = 'legoSets'\n",
    "\n",
    "if tableName not in existingTables:\n",
    "    setsTb = SQL.Table(tableName, meta, \n",
    "        SQL.Column('id', SQL.Integer, primary_key = True), \n",
    "        SQL.Column('setNo', SQL.String), \n",
    "        SQL.Column('name', SQL.String),\n",
    "        SQL.Column('theme', SQL.String),\n",
    "        SQL.Column('pieceCnt', SQL.Integer),\n",
    "        SQL.UniqueConstraint('setNo', name='setNo_unique')\n",
    "    )\n",
    "    meta.create_all(engine)\n",
    "    print(f\"table {tableName} created\")\n",
    "    \n",
    "else:\n",
    "    print(f\"table {tableName} already exists\")"
   ]
  },
  {
   "cell_type": "code",
   "execution_count": 9,
   "metadata": {
    "scrolled": false
   },
   "outputs": [
    {
     "name": "stdout",
     "output_type": "stream",
     "text": [
      "rows deleted: 6,181\n",
      "table deleted\n"
     ]
    }
   ],
   "source": [
    "# delete the table when needed\n",
    "# delete happens on meta after the kernel is restarted\n",
    "# remove all records first so notebook doesn't freeze\n",
    "\n",
    "# deleteTable = meta.tables.get(tableName)\n",
    "\n",
    "# try:\n",
    "#     statement = deleteTable.delete()\n",
    "#     results = statement.execute()\n",
    "#     print(f\"rows deleted: {results.rowcount:,}\")\n",
    "#     deleteTable.drop(engine)\n",
    "#     print(\"table deleted\")\n",
    "# except Exception as ex:\n",
    "#     print(ex)"
   ]
  },
  {
   "cell_type": "markdown",
   "metadata": {},
   "source": [
    "### CRUD Operations"
   ]
  },
  {
   "cell_type": "code",
   "execution_count": 10,
   "metadata": {},
   "outputs": [],
   "source": [
    "# sqlalchemy core has 2 syntax styles\n",
    "# SQL.select() is the standard, will work with joins?\n",
    "# table.select() is syntactic sugar, not as useful\n",
    "# sessions don't seem to be worth it, they just make it more complicated"
   ]
  },
  {
   "cell_type": "code",
   "execution_count": 11,
   "metadata": {
    "scrolled": false
   },
   "outputs": [
    {
     "name": "stdout",
     "output_type": "stream",
     "text": [
      "{'setNo': '858-1', 'name': 'Auto Engines', 'price_store': nan, 'price_new': nan, 'price_used': 51.0, 'rating_value': 4.5, 'rating_votes': 2.0, 'theme_group': 'Technical', 'theme': 'Technic', 'subtheme': nan, 'main_tag': nan, 'year': 1980.0, 'volume': nan, 'weight': nan, 'pieceCnt': 242.0, 'minifig_cnt': 0.0}\n",
      "{'setNo': '1591-1', 'name': 'Danone Delivery Truck', 'price_store': nan, 'price_new': 129.0, 'price_used': 28.0, 'rating_value': nan, 'rating_votes': nan, 'theme_group': 'Modern day', 'theme': 'Town', 'subtheme': 'Special', 'main_tag': nan, 'year': 1980.0, 'volume': nan, 'weight': nan, 'pieceCnt': 40.0, 'minifig_cnt': 0.0}\n"
     ]
    }
   ],
   "source": [
    "# convert dataframe to input type accepted by sqlalchemy insert\n",
    "# no need to drop extra file columns\n",
    "\n",
    "convertDf = brickDf.rename(columns={'set_no' : 'setNo', 'piece_cnt' : 'pieceCnt'})\n",
    "convertLs = convertDf.to_dict(orient='records')\n",
    "print(*convertLs[:2], sep='\\n')"
   ]
  },
  {
   "cell_type": "code",
   "execution_count": 12,
   "metadata": {
    "scrolled": true
   },
   "outputs": [
    {
     "name": "stdout",
     "output_type": "stream",
     "text": [
      "(sqlite3.OperationalError) no such table: legoSets\n",
      "[SQL: INSERT INTO \"legoSets\" (\"setNo\", name, theme, \"pieceCnt\") VALUES (?, ?, ?, ?)]\n",
      "[parameters: (('858-1', 'Auto Engines', 'Technic', 242.0), ('1591-1', 'Danone Delivery Truck', 'Town', 40.0), ('1592-1', 'Town Square - Castle Scene', 'Town', 471.0), ('1651-2', 'Maersk Line Container Lorry', 'Town', 305.0), ('3602-1', 'Pram - Lisa Lamb Goes Walking', 'Fabuland', 3.0), ('3604-1', 'Mark Monkey with his Fruit Stall', 'Fabuland', 3.0), ('3605-1', 'Ricky Racoon and his Scooter', 'Fabuland', 1.0), ('3634-1', \"Charlie Crow's Carry-All\", 'Fabuland', 17.0)  ... displaying 10 of 6181 total bound parameter sets ...  ('88005-1', 'Headlight Set', 'Powered Up', 1.0), ('4000031-1', 'Exclusive T. rex', 'Jurassic World', 70.0))]\n",
      "(Background on this error at: http://sqlalche.me/e/14/e3q8)\n"
     ]
    }
   ],
   "source": [
    "# bulk insert all data from the file\n",
    "# sqlalchemy doesn't support de-duplicates in bulk insert, must insert row by row\n",
    "\n",
    "setsTb = meta.tables.get(tableName)\n",
    "try:\n",
    "    results = setsTb.insert().execute(convertLs)\n",
    "    print(f\"rows inserted: {results.rowcount:,}\")\n",
    "except Exception as ex:\n",
    "    print(ex)"
   ]
  },
  {
   "cell_type": "code",
   "execution_count": 13,
   "metadata": {
    "scrolled": false
   },
   "outputs": [
    {
     "name": "stdout",
     "output_type": "stream",
     "text": [
      "SELECT \"legoSets\".id, \"legoSets\".\"setNo\", \"legoSets\".name, \"legoSets\".theme, \"legoSets\".\"pieceCnt\" \n",
      "FROM \"legoSets\"\n"
     ]
    },
    {
     "ename": "OperationalError",
     "evalue": "(sqlite3.OperationalError) no such table: legoSets\n[SQL: SELECT \"legoSets\".id, \"legoSets\".\"setNo\", \"legoSets\".name, \"legoSets\".theme, \"legoSets\".\"pieceCnt\" \nFROM \"legoSets\"]\n(Background on this error at: http://sqlalche.me/e/14/e3q8)",
     "output_type": "error",
     "traceback": [
      "\u001b[1;31m---------------------------------------------------------------------------\u001b[0m",
      "\u001b[1;31mOperationalError\u001b[0m                          Traceback (most recent call last)",
      "\u001b[1;32mc:\\documents\\code\\openstack\\current\\mediamanager\\v1\\lib\\site-packages\\sqlalchemy\\engine\\base.py\u001b[0m in \u001b[0;36m_execute_context\u001b[1;34m(self, dialect, constructor, statement, parameters, execution_options, *args, **kw)\u001b[0m\n\u001b[0;32m   1769\u001b[0m                 \u001b[1;32mif\u001b[0m \u001b[1;32mnot\u001b[0m \u001b[0mevt_handled\u001b[0m\u001b[1;33m:\u001b[0m\u001b[1;33m\u001b[0m\u001b[1;33m\u001b[0m\u001b[0m\n\u001b[1;32m-> 1770\u001b[1;33m                     self.dialect.do_execute(\n\u001b[0m\u001b[0;32m   1771\u001b[0m                         \u001b[0mcursor\u001b[0m\u001b[1;33m,\u001b[0m \u001b[0mstatement\u001b[0m\u001b[1;33m,\u001b[0m \u001b[0mparameters\u001b[0m\u001b[1;33m,\u001b[0m \u001b[0mcontext\u001b[0m\u001b[1;33m\u001b[0m\u001b[1;33m\u001b[0m\u001b[0m\n",
      "\u001b[1;32mc:\\documents\\code\\openstack\\current\\mediamanager\\v1\\lib\\site-packages\\sqlalchemy\\engine\\default.py\u001b[0m in \u001b[0;36mdo_execute\u001b[1;34m(self, cursor, statement, parameters, context)\u001b[0m\n\u001b[0;32m    716\u001b[0m     \u001b[1;32mdef\u001b[0m \u001b[0mdo_execute\u001b[0m\u001b[1;33m(\u001b[0m\u001b[0mself\u001b[0m\u001b[1;33m,\u001b[0m \u001b[0mcursor\u001b[0m\u001b[1;33m,\u001b[0m \u001b[0mstatement\u001b[0m\u001b[1;33m,\u001b[0m \u001b[0mparameters\u001b[0m\u001b[1;33m,\u001b[0m \u001b[0mcontext\u001b[0m\u001b[1;33m=\u001b[0m\u001b[1;32mNone\u001b[0m\u001b[1;33m)\u001b[0m\u001b[1;33m:\u001b[0m\u001b[1;33m\u001b[0m\u001b[1;33m\u001b[0m\u001b[0m\n\u001b[1;32m--> 717\u001b[1;33m         \u001b[0mcursor\u001b[0m\u001b[1;33m.\u001b[0m\u001b[0mexecute\u001b[0m\u001b[1;33m(\u001b[0m\u001b[0mstatement\u001b[0m\u001b[1;33m,\u001b[0m \u001b[0mparameters\u001b[0m\u001b[1;33m)\u001b[0m\u001b[1;33m\u001b[0m\u001b[1;33m\u001b[0m\u001b[0m\n\u001b[0m\u001b[0;32m    718\u001b[0m \u001b[1;33m\u001b[0m\u001b[0m\n",
      "\u001b[1;31mOperationalError\u001b[0m: no such table: legoSets",
      "\nThe above exception was the direct cause of the following exception:\n",
      "\u001b[1;31mOperationalError\u001b[0m                          Traceback (most recent call last)",
      "\u001b[1;32m<ipython-input-13-5c755814a2d2>\u001b[0m in \u001b[0;36m<module>\u001b[1;34m\u001b[0m\n\u001b[0;32m      4\u001b[0m \u001b[0mprint\u001b[0m\u001b[1;33m(\u001b[0m\u001b[0mstatement\u001b[0m\u001b[1;33m)\u001b[0m\u001b[1;33m\u001b[0m\u001b[1;33m\u001b[0m\u001b[0m\n\u001b[0;32m      5\u001b[0m \u001b[1;33m\u001b[0m\u001b[0m\n\u001b[1;32m----> 6\u001b[1;33m \u001b[0mresults\u001b[0m \u001b[1;33m=\u001b[0m \u001b[0mstatement\u001b[0m\u001b[1;33m.\u001b[0m\u001b[0mexecute\u001b[0m\u001b[1;33m(\u001b[0m\u001b[1;33m)\u001b[0m\u001b[1;33m.\u001b[0m\u001b[0mfetchall\u001b[0m\u001b[1;33m(\u001b[0m\u001b[1;33m)\u001b[0m\u001b[1;33m\u001b[0m\u001b[1;33m\u001b[0m\u001b[0m\n\u001b[0m\u001b[0;32m      7\u001b[0m \u001b[0mprint\u001b[0m\u001b[1;33m(\u001b[0m\u001b[1;33m*\u001b[0m\u001b[0mresults\u001b[0m\u001b[1;33m[\u001b[0m\u001b[1;33m:\u001b[0m\u001b[1;36m5\u001b[0m\u001b[1;33m]\u001b[0m\u001b[1;33m,\u001b[0m \u001b[0msep\u001b[0m\u001b[1;33m=\u001b[0m\u001b[1;34m'\\n'\u001b[0m\u001b[1;33m)\u001b[0m\u001b[1;33m\u001b[0m\u001b[1;33m\u001b[0m\u001b[0m\n",
      "\u001b[1;32m<string>\u001b[0m in \u001b[0;36mexecute\u001b[1;34m(self, *multiparams, **params)\u001b[0m\n",
      "\u001b[1;32mc:\\documents\\code\\openstack\\current\\mediamanager\\v1\\lib\\site-packages\\sqlalchemy\\util\\deprecations.py\u001b[0m in \u001b[0;36mwarned\u001b[1;34m(fn, *args, **kwargs)\u001b[0m\n\u001b[0;32m    388\u001b[0m         \u001b[1;32mif\u001b[0m \u001b[1;32mnot\u001b[0m \u001b[0mskip_warning\u001b[0m\u001b[1;33m:\u001b[0m\u001b[1;33m\u001b[0m\u001b[1;33m\u001b[0m\u001b[0m\n\u001b[0;32m    389\u001b[0m             \u001b[0m_warn_with_version\u001b[0m\u001b[1;33m(\u001b[0m\u001b[0mmessage\u001b[0m\u001b[1;33m,\u001b[0m \u001b[0mversion\u001b[0m\u001b[1;33m,\u001b[0m \u001b[0mwtype\u001b[0m\u001b[1;33m,\u001b[0m \u001b[0mstacklevel\u001b[0m\u001b[1;33m=\u001b[0m\u001b[1;36m3\u001b[0m\u001b[1;33m)\u001b[0m\u001b[1;33m\u001b[0m\u001b[1;33m\u001b[0m\u001b[0m\n\u001b[1;32m--> 390\u001b[1;33m         \u001b[1;32mreturn\u001b[0m \u001b[0mfn\u001b[0m\u001b[1;33m(\u001b[0m\u001b[1;33m*\u001b[0m\u001b[0margs\u001b[0m\u001b[1;33m,\u001b[0m \u001b[1;33m**\u001b[0m\u001b[0mkwargs\u001b[0m\u001b[1;33m)\u001b[0m\u001b[1;33m\u001b[0m\u001b[1;33m\u001b[0m\u001b[0m\n\u001b[0m\u001b[0;32m    391\u001b[0m \u001b[1;33m\u001b[0m\u001b[0m\n\u001b[0;32m    392\u001b[0m     \u001b[0mdoc\u001b[0m \u001b[1;33m=\u001b[0m \u001b[0mfunc\u001b[0m\u001b[1;33m.\u001b[0m\u001b[0m__doc__\u001b[0m \u001b[1;32mis\u001b[0m \u001b[1;32mnot\u001b[0m \u001b[1;32mNone\u001b[0m \u001b[1;32mand\u001b[0m \u001b[0mfunc\u001b[0m\u001b[1;33m.\u001b[0m\u001b[0m__doc__\u001b[0m \u001b[1;32mor\u001b[0m \u001b[1;34m\"\"\u001b[0m\u001b[1;33m\u001b[0m\u001b[1;33m\u001b[0m\u001b[0m\n",
      "\u001b[1;32mc:\\documents\\code\\openstack\\current\\mediamanager\\v1\\lib\\site-packages\\sqlalchemy\\sql\\base.py\u001b[0m in \u001b[0;36mexecute\u001b[1;34m(self, *multiparams, **params)\u001b[0m\n\u001b[0;32m    940\u001b[0m             )\n\u001b[0;32m    941\u001b[0m             \u001b[1;32mraise\u001b[0m \u001b[0mexc\u001b[0m\u001b[1;33m.\u001b[0m\u001b[0mUnboundExecutionError\u001b[0m\u001b[1;33m(\u001b[0m\u001b[0mmsg\u001b[0m\u001b[1;33m)\u001b[0m\u001b[1;33m\u001b[0m\u001b[1;33m\u001b[0m\u001b[0m\n\u001b[1;32m--> 942\u001b[1;33m         return e._execute_clauseelement(\n\u001b[0m\u001b[0;32m    943\u001b[0m             \u001b[0mself\u001b[0m\u001b[1;33m,\u001b[0m \u001b[0mmultiparams\u001b[0m\u001b[1;33m,\u001b[0m \u001b[0mparams\u001b[0m\u001b[1;33m,\u001b[0m \u001b[0mutil\u001b[0m\u001b[1;33m.\u001b[0m\u001b[0mimmutabledict\u001b[0m\u001b[1;33m(\u001b[0m\u001b[1;33m)\u001b[0m\u001b[1;33m\u001b[0m\u001b[1;33m\u001b[0m\u001b[0m\n\u001b[0;32m    944\u001b[0m         )\n",
      "\u001b[1;32mc:\\documents\\code\\openstack\\current\\mediamanager\\v1\\lib\\site-packages\\sqlalchemy\\engine\\base.py\u001b[0m in \u001b[0;36m_execute_clauseelement\u001b[1;34m(self, elem, multiparams, params, execution_options)\u001b[0m\n\u001b[0;32m   3133\u001b[0m     ):\n\u001b[0;32m   3134\u001b[0m         \u001b[0mconnection\u001b[0m \u001b[1;33m=\u001b[0m \u001b[0mself\u001b[0m\u001b[1;33m.\u001b[0m\u001b[0mconnect\u001b[0m\u001b[1;33m(\u001b[0m\u001b[0mclose_with_result\u001b[0m\u001b[1;33m=\u001b[0m\u001b[1;32mTrue\u001b[0m\u001b[1;33m)\u001b[0m\u001b[1;33m\u001b[0m\u001b[1;33m\u001b[0m\u001b[0m\n\u001b[1;32m-> 3135\u001b[1;33m         return connection._execute_clauseelement(\n\u001b[0m\u001b[0;32m   3136\u001b[0m             \u001b[0melem\u001b[0m\u001b[1;33m,\u001b[0m \u001b[0mmultiparams\u001b[0m\u001b[1;33m,\u001b[0m \u001b[0mparams\u001b[0m\u001b[1;33m,\u001b[0m \u001b[0mexecution_options\u001b[0m\u001b[1;33m\u001b[0m\u001b[1;33m\u001b[0m\u001b[0m\n\u001b[0;32m   3137\u001b[0m         )\n",
      "\u001b[1;32mc:\\documents\\code\\openstack\\current\\mediamanager\\v1\\lib\\site-packages\\sqlalchemy\\engine\\base.py\u001b[0m in \u001b[0;36m_execute_clauseelement\u001b[1;34m(self, elem, multiparams, params, execution_options)\u001b[0m\n\u001b[0;32m   1449\u001b[0m             \u001b[0mlinting\u001b[0m\u001b[1;33m=\u001b[0m\u001b[0mself\u001b[0m\u001b[1;33m.\u001b[0m\u001b[0mdialect\u001b[0m\u001b[1;33m.\u001b[0m\u001b[0mcompiler_linting\u001b[0m \u001b[1;33m|\u001b[0m \u001b[0mcompiler\u001b[0m\u001b[1;33m.\u001b[0m\u001b[0mWARN_LINTING\u001b[0m\u001b[1;33m,\u001b[0m\u001b[1;33m\u001b[0m\u001b[1;33m\u001b[0m\u001b[0m\n\u001b[0;32m   1450\u001b[0m         )\n\u001b[1;32m-> 1451\u001b[1;33m         ret = self._execute_context(\n\u001b[0m\u001b[0;32m   1452\u001b[0m             \u001b[0mdialect\u001b[0m\u001b[1;33m,\u001b[0m\u001b[1;33m\u001b[0m\u001b[1;33m\u001b[0m\u001b[0m\n\u001b[0;32m   1453\u001b[0m             \u001b[0mdialect\u001b[0m\u001b[1;33m.\u001b[0m\u001b[0mexecution_ctx_cls\u001b[0m\u001b[1;33m.\u001b[0m\u001b[0m_init_compiled\u001b[0m\u001b[1;33m,\u001b[0m\u001b[1;33m\u001b[0m\u001b[1;33m\u001b[0m\u001b[0m\n",
      "\u001b[1;32mc:\\documents\\code\\openstack\\current\\mediamanager\\v1\\lib\\site-packages\\sqlalchemy\\engine\\base.py\u001b[0m in \u001b[0;36m_execute_context\u001b[1;34m(self, dialect, constructor, statement, parameters, execution_options, *args, **kw)\u001b[0m\n\u001b[0;32m   1811\u001b[0m \u001b[1;33m\u001b[0m\u001b[0m\n\u001b[0;32m   1812\u001b[0m         \u001b[1;32mexcept\u001b[0m \u001b[0mBaseException\u001b[0m \u001b[1;32mas\u001b[0m \u001b[0me\u001b[0m\u001b[1;33m:\u001b[0m\u001b[1;33m\u001b[0m\u001b[1;33m\u001b[0m\u001b[0m\n\u001b[1;32m-> 1813\u001b[1;33m             self._handle_dbapi_exception(\n\u001b[0m\u001b[0;32m   1814\u001b[0m                 \u001b[0me\u001b[0m\u001b[1;33m,\u001b[0m \u001b[0mstatement\u001b[0m\u001b[1;33m,\u001b[0m \u001b[0mparameters\u001b[0m\u001b[1;33m,\u001b[0m \u001b[0mcursor\u001b[0m\u001b[1;33m,\u001b[0m \u001b[0mcontext\u001b[0m\u001b[1;33m\u001b[0m\u001b[1;33m\u001b[0m\u001b[0m\n\u001b[0;32m   1815\u001b[0m             )\n",
      "\u001b[1;32mc:\\documents\\code\\openstack\\current\\mediamanager\\v1\\lib\\site-packages\\sqlalchemy\\engine\\base.py\u001b[0m in \u001b[0;36m_handle_dbapi_exception\u001b[1;34m(self, e, statement, parameters, cursor, context)\u001b[0m\n\u001b[0;32m   1992\u001b[0m                 \u001b[0mutil\u001b[0m\u001b[1;33m.\u001b[0m\u001b[0mraise_\u001b[0m\u001b[1;33m(\u001b[0m\u001b[0mnewraise\u001b[0m\u001b[1;33m,\u001b[0m \u001b[0mwith_traceback\u001b[0m\u001b[1;33m=\u001b[0m\u001b[0mexc_info\u001b[0m\u001b[1;33m[\u001b[0m\u001b[1;36m2\u001b[0m\u001b[1;33m]\u001b[0m\u001b[1;33m,\u001b[0m \u001b[0mfrom_\u001b[0m\u001b[1;33m=\u001b[0m\u001b[0me\u001b[0m\u001b[1;33m)\u001b[0m\u001b[1;33m\u001b[0m\u001b[1;33m\u001b[0m\u001b[0m\n\u001b[0;32m   1993\u001b[0m             \u001b[1;32melif\u001b[0m \u001b[0mshould_wrap\u001b[0m\u001b[1;33m:\u001b[0m\u001b[1;33m\u001b[0m\u001b[1;33m\u001b[0m\u001b[0m\n\u001b[1;32m-> 1994\u001b[1;33m                 util.raise_(\n\u001b[0m\u001b[0;32m   1995\u001b[0m                     \u001b[0msqlalchemy_exception\u001b[0m\u001b[1;33m,\u001b[0m \u001b[0mwith_traceback\u001b[0m\u001b[1;33m=\u001b[0m\u001b[0mexc_info\u001b[0m\u001b[1;33m[\u001b[0m\u001b[1;36m2\u001b[0m\u001b[1;33m]\u001b[0m\u001b[1;33m,\u001b[0m \u001b[0mfrom_\u001b[0m\u001b[1;33m=\u001b[0m\u001b[0me\u001b[0m\u001b[1;33m\u001b[0m\u001b[1;33m\u001b[0m\u001b[0m\n\u001b[0;32m   1996\u001b[0m                 )\n",
      "\u001b[1;32mc:\\documents\\code\\openstack\\current\\mediamanager\\v1\\lib\\site-packages\\sqlalchemy\\util\\compat.py\u001b[0m in \u001b[0;36mraise_\u001b[1;34m(***failed resolving arguments***)\u001b[0m\n\u001b[0;32m    209\u001b[0m \u001b[1;33m\u001b[0m\u001b[0m\n\u001b[0;32m    210\u001b[0m         \u001b[1;32mtry\u001b[0m\u001b[1;33m:\u001b[0m\u001b[1;33m\u001b[0m\u001b[1;33m\u001b[0m\u001b[0m\n\u001b[1;32m--> 211\u001b[1;33m             \u001b[1;32mraise\u001b[0m \u001b[0mexception\u001b[0m\u001b[1;33m\u001b[0m\u001b[1;33m\u001b[0m\u001b[0m\n\u001b[0m\u001b[0;32m    212\u001b[0m         \u001b[1;32mfinally\u001b[0m\u001b[1;33m:\u001b[0m\u001b[1;33m\u001b[0m\u001b[1;33m\u001b[0m\u001b[0m\n\u001b[0;32m    213\u001b[0m             \u001b[1;31m# credit to\u001b[0m\u001b[1;33m\u001b[0m\u001b[1;33m\u001b[0m\u001b[1;33m\u001b[0m\u001b[0m\n",
      "\u001b[1;32mc:\\documents\\code\\openstack\\current\\mediamanager\\v1\\lib\\site-packages\\sqlalchemy\\engine\\base.py\u001b[0m in \u001b[0;36m_execute_context\u001b[1;34m(self, dialect, constructor, statement, parameters, execution_options, *args, **kw)\u001b[0m\n\u001b[0;32m   1768\u001b[0m                             \u001b[1;32mbreak\u001b[0m\u001b[1;33m\u001b[0m\u001b[1;33m\u001b[0m\u001b[0m\n\u001b[0;32m   1769\u001b[0m                 \u001b[1;32mif\u001b[0m \u001b[1;32mnot\u001b[0m \u001b[0mevt_handled\u001b[0m\u001b[1;33m:\u001b[0m\u001b[1;33m\u001b[0m\u001b[1;33m\u001b[0m\u001b[0m\n\u001b[1;32m-> 1770\u001b[1;33m                     self.dialect.do_execute(\n\u001b[0m\u001b[0;32m   1771\u001b[0m                         \u001b[0mcursor\u001b[0m\u001b[1;33m,\u001b[0m \u001b[0mstatement\u001b[0m\u001b[1;33m,\u001b[0m \u001b[0mparameters\u001b[0m\u001b[1;33m,\u001b[0m \u001b[0mcontext\u001b[0m\u001b[1;33m\u001b[0m\u001b[1;33m\u001b[0m\u001b[0m\n\u001b[0;32m   1772\u001b[0m                     )\n",
      "\u001b[1;32mc:\\documents\\code\\openstack\\current\\mediamanager\\v1\\lib\\site-packages\\sqlalchemy\\engine\\default.py\u001b[0m in \u001b[0;36mdo_execute\u001b[1;34m(self, cursor, statement, parameters, context)\u001b[0m\n\u001b[0;32m    715\u001b[0m \u001b[1;33m\u001b[0m\u001b[0m\n\u001b[0;32m    716\u001b[0m     \u001b[1;32mdef\u001b[0m \u001b[0mdo_execute\u001b[0m\u001b[1;33m(\u001b[0m\u001b[0mself\u001b[0m\u001b[1;33m,\u001b[0m \u001b[0mcursor\u001b[0m\u001b[1;33m,\u001b[0m \u001b[0mstatement\u001b[0m\u001b[1;33m,\u001b[0m \u001b[0mparameters\u001b[0m\u001b[1;33m,\u001b[0m \u001b[0mcontext\u001b[0m\u001b[1;33m=\u001b[0m\u001b[1;32mNone\u001b[0m\u001b[1;33m)\u001b[0m\u001b[1;33m:\u001b[0m\u001b[1;33m\u001b[0m\u001b[1;33m\u001b[0m\u001b[0m\n\u001b[1;32m--> 717\u001b[1;33m         \u001b[0mcursor\u001b[0m\u001b[1;33m.\u001b[0m\u001b[0mexecute\u001b[0m\u001b[1;33m(\u001b[0m\u001b[0mstatement\u001b[0m\u001b[1;33m,\u001b[0m \u001b[0mparameters\u001b[0m\u001b[1;33m)\u001b[0m\u001b[1;33m\u001b[0m\u001b[1;33m\u001b[0m\u001b[0m\n\u001b[0m\u001b[0;32m    718\u001b[0m \u001b[1;33m\u001b[0m\u001b[0m\n\u001b[0;32m    719\u001b[0m     \u001b[1;32mdef\u001b[0m \u001b[0mdo_execute_no_params\u001b[0m\u001b[1;33m(\u001b[0m\u001b[0mself\u001b[0m\u001b[1;33m,\u001b[0m \u001b[0mcursor\u001b[0m\u001b[1;33m,\u001b[0m \u001b[0mstatement\u001b[0m\u001b[1;33m,\u001b[0m \u001b[0mcontext\u001b[0m\u001b[1;33m=\u001b[0m\u001b[1;32mNone\u001b[0m\u001b[1;33m)\u001b[0m\u001b[1;33m:\u001b[0m\u001b[1;33m\u001b[0m\u001b[1;33m\u001b[0m\u001b[0m\n",
      "\u001b[1;31mOperationalError\u001b[0m: (sqlite3.OperationalError) no such table: legoSets\n[SQL: SELECT \"legoSets\".id, \"legoSets\".\"setNo\", \"legoSets\".name, \"legoSets\".theme, \"legoSets\".\"pieceCnt\" \nFROM \"legoSets\"]\n(Background on this error at: http://sqlalche.me/e/14/e3q8)"
     ]
    }
   ],
   "source": [
    "# select as a tuple, default behavior\n",
    "\n",
    "statement = SQL.select(setsTb)\n",
    "print(statement)\n",
    "\n",
    "results = statement.execute().fetchall()\n",
    "print(*results[:5], sep='\\n')"
   ]
  },
  {
   "cell_type": "code",
   "execution_count": null,
   "metadata": {
    "scrolled": false
   },
   "outputs": [],
   "source": [
    "# select as list of dicts, better for pandas\n",
    "\n",
    "statement = SQL.select(setsTb)\n",
    "results = statement.execute()\n",
    "resultsDx = [dict(x) for x in results]\n",
    "print(*resultsDx[:5], sep='\\n')"
   ]
  },
  {
   "cell_type": "code",
   "execution_count": null,
   "metadata": {},
   "outputs": [],
   "source": [
    "# find all sets with 3-digit set no\n",
    "\n",
    "statement = SQL.select([setsTb.c.setNo, setsTb.c.name]\n",
    "        ).where(SQL.func.length(setsTb.c.setNo)==5\n",
    "        ).order_by(setsTb.c.setNo.desc())\n",
    "results = statement.execute()\n",
    "resultsDx = [dict(x) for x in results]\n",
    "print(f\"rows found: {len(resultsDx)}\")\n",
    "print(*resultsDx[:5], sep='\\n')"
   ]
  },
  {
   "cell_type": "code",
   "execution_count": null,
   "metadata": {},
   "outputs": [],
   "source": [
    "# check rows for update\n",
    "\n",
    "statement = SQL.select(setsTb\n",
    "        ).where(setsTb.c.pieceCnt==None)\n",
    "results = statement.execute()\n",
    "resultsDx = [dict(x) for x in results]\n",
    "print(f\"rows found: {len(resultsDx)}\")\n",
    "print(*resultsDx[:3], sep='\\n')"
   ]
  },
  {
   "cell_type": "code",
   "execution_count": null,
   "metadata": {},
   "outputs": [],
   "source": [
    "# update null values to 0\n",
    "\n",
    "statement = SQL.update(setsTb\n",
    "        ).where(setsTb.c.pieceCnt==None\n",
    "        ).values({'pieceCnt': 0})\n",
    "results = statement.execute()\n",
    "print(statement)\n",
    "print(f\"rows updated: {results.rowcount:,}\")\n",
    "\n",
    "statement = SQL.select(setsTb).where(setsTb.c.pieceCnt==0)\n",
    "results = statement.execute()\n",
    "resultsDx = [dict(x) for x in results]\n",
    "print(*resultsDx[:3], sep='\\n')"
   ]
  },
  {
   "cell_type": "code",
   "execution_count": null,
   "metadata": {},
   "outputs": [],
   "source": [
    "# delete all records in table\n",
    "\n",
    "# statement = setsTb.delete()\n",
    "# results = statement.execute()\n",
    "# print(statement)\n",
    "# print(f\"rows deleted: {results.rowcount:,}\")\n",
    "\n",
    "# results = setsTb.select().execute()\n",
    "# resultsDx = [dict(x) for x in results]\n",
    "# print(*resultsDx[:5], sep='\\n')"
   ]
  },
  {
   "cell_type": "markdown",
   "metadata": {},
   "source": [
    "### Aggregate Operations"
   ]
  },
  {
   "cell_type": "code",
   "execution_count": null,
   "metadata": {},
   "outputs": [],
   "source": [
    "# count star\n",
    "\n",
    "statement = SQL.select(SQL.func.count()).select_from(setsTb)\n",
    "results = statement.execute().scalar()\n",
    "print(f\"rows: {results:,}\")"
   ]
  },
  {
   "cell_type": "code",
   "execution_count": null,
   "metadata": {},
   "outputs": [],
   "source": [
    "# max, min, count per column\n",
    "\n",
    "statement = SQL.select(SQL.func.max(setsTb.c.pieceCnt))\n",
    "results = statement.execute().scalar()\n",
    "print(f\"max pieces: {results:,}\")"
   ]
  },
  {
   "cell_type": "code",
   "execution_count": null,
   "metadata": {},
   "outputs": [],
   "source": [
    "# group by with count\n",
    "\n",
    "statement = SQL.select(setsTb.c.theme, SQL.func.count().label('cnt')\n",
    "                      ).group_by(setsTb.c.theme).order_by(SQL.desc('cnt'))\n",
    "results = statement.execute()\n",
    "resultsDx = [dict(x) for x in results]\n",
    "PD.DataFrame(resultsDx)"
   ]
  },
  {
   "cell_type": "markdown",
   "metadata": {},
   "source": [
    "### Advanced Operations"
   ]
  },
  {
   "cell_type": "code",
   "execution_count": null,
   "metadata": {},
   "outputs": [],
   "source": [
    "# user defined function for string split\n",
    "# existing functions: http://docs.sqlalchemy.org/en/rel_1_0/core/functions.html\n",
    "\n",
    "@SQL.event.listens_for(SQL.engine.Engine, 'connect')\n",
    "def sqlite_engine_connect(dbapi_conn, connection_record):\n",
    "    dbapi_conn.create_function('str_split', 1, _str_split)\n",
    "\n",
    "def _str_split(inputString):\n",
    "    splitLs = inputString.split('-')\n",
    "    if len(splitLs) > 1:\n",
    "        return splitLs[0]\n",
    "    return ''"
   ]
  },
  {
   "cell_type": "code",
   "execution_count": null,
   "metadata": {
    "scrolled": false
   },
   "outputs": [],
   "source": [
    "# verify the split works \n",
    "\n",
    "statement = SQL.select(setsTb.c.setNo, \n",
    "                       SQL.func.str_split(setsTb.c.setNo).label('split'))\n",
    "results = statement.execute()\n",
    "resultsDx = [dict(x) for x in results]\n",
    "print(*resultsDx[:5], sep='\\n')"
   ]
  },
  {
   "cell_type": "code",
   "execution_count": null,
   "metadata": {},
   "outputs": [],
   "source": [
    "# do the setno postfixes matter ?\n",
    "# must join the table with itself, matching on the prefixes only\n",
    "\n",
    "setsTb2 = SQL.alias(setsTb)\n",
    "\n",
    "joinStmt = SQL.join(setsTb, setsTb2, \n",
    "                    SQL.and_(SQL.func.str_split(setsTb.c.setNo)==SQL.func.str_split(setsTb2.c.setNo),\n",
    "                         setsTb.c.id!=setsTb2.c.id))\n",
    "statement = SQL.select(setsTb.c.id, setsTb.c.setNo, \n",
    "                       setsTb2.c.id, setsTb2.c.setNo).select_from(joinStmt)\n",
    "\n",
    "results = statement.execute()\n",
    "resultsDx = [dict(x) for x in results]\n",
    "print(f\"rows found: {len(resultsDx)}\")\n",
    "print(*resultsDx[:20], sep='\\n')"
   ]
  },
  {
   "cell_type": "code",
   "execution_count": null,
   "metadata": {},
   "outputs": [],
   "source": []
  }
 ],
 "metadata": {
  "kernelspec": {
   "display_name": "Python 3",
   "language": "python",
   "name": "python3"
  },
  "language_info": {
   "codemirror_mode": {
    "name": "ipython",
    "version": 3
   },
   "file_extension": ".py",
   "mimetype": "text/x-python",
   "name": "python",
   "nbconvert_exporter": "python",
   "pygments_lexer": "ipython3",
   "version": "3.8.2"
  }
 },
 "nbformat": 4,
 "nbformat_minor": 4
}
