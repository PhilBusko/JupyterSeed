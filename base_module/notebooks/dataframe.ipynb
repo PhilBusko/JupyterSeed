{
 "cells": [
  {
   "cell_type": "markdown",
   "metadata": {},
   "source": [
    "# DataFrame Processes\n",
    "\n",
    "**Objective:** Provide sample code for dataframe operations.\n",
    "\n",
    "**Author:** Phil Busko"
   ]
  },
  {
   "cell_type": "code",
   "execution_count": 1,
   "metadata": {},
   "outputs": [],
   "source": [
    "import os, sys\n",
    "import pandas as PD"
   ]
  },
  {
   "cell_type": "code",
   "execution_count": 2,
   "metadata": {},
   "outputs": [
    {
     "name": "stdout",
     "output_type": "stream",
     "text": [
      "C:\\Users\\pbusko\\Projects\\QualityCuration\\base_module\n"
     ]
    }
   ],
   "source": [
    "MODULE_PATH = os.path.dirname(os.getcwd())\n",
    "DATA_PATH = os.path.join(MODULE_PATH, 'data')\n",
    "LOGIC_PATH = os.path.join(MODULE_PATH, 'logic')\n",
    "sys.path.append(LOGIC_PATH)\n",
    "print(MODULE_PATH)"
   ]
  },
  {
   "cell_type": "code",
   "execution_count": 3,
   "metadata": {},
   "outputs": [],
   "source": [
    "%load_ext autoreload\n",
    "%autoreload 2\n",
    "from IPython.core.interactiveshell import InteractiveShell\n",
    "InteractiveShell.ast_node_interactivity = 'all'\n",
    "import IPython.display as DS \n",
    "from ipywidgets import IntProgress"
   ]
  },
  {
   "cell_type": "code",
   "execution_count": 4,
   "metadata": {},
   "outputs": [],
   "source": [
    "def DataframeToDicts(myDf):\n",
    "    myLs = myDf.to_dict('records')\n",
    "    for nd, d in enumerate(myLs):\n",
    "        for k, v in d.items():\n",
    "            if str(v) in ['nan', 'NaT', '<NA>'] : d[k] = None\n",
    "    return myLs"
   ]
  },
  {
   "cell_type": "markdown",
   "metadata": {},
   "source": [
    "### Prepare the Data"
   ]
  },
  {
   "cell_type": "code",
   "execution_count": 5,
   "metadata": {
    "scrolled": false
   },
   "outputs": [
    {
     "data": {
      "text/html": [
       "<div>\n",
       "<style scoped>\n",
       "    .dataframe tbody tr th:only-of-type {\n",
       "        vertical-align: middle;\n",
       "    }\n",
       "\n",
       "    .dataframe tbody tr th {\n",
       "        vertical-align: top;\n",
       "    }\n",
       "\n",
       "    .dataframe thead th {\n",
       "        text-align: right;\n",
       "    }\n",
       "</style>\n",
       "<table border=\"1\" class=\"dataframe\">\n",
       "  <thead>\n",
       "    <tr style=\"text-align: right;\">\n",
       "      <th></th>\n",
       "      <th>set_no</th>\n",
       "      <th>name</th>\n",
       "      <th>price_store</th>\n",
       "      <th>price_new</th>\n",
       "      <th>price_used</th>\n",
       "      <th>rating_value</th>\n",
       "      <th>rating_votes</th>\n",
       "      <th>theme_group</th>\n",
       "      <th>theme</th>\n",
       "      <th>subtheme</th>\n",
       "      <th>main_tag</th>\n",
       "      <th>year</th>\n",
       "      <th>volume</th>\n",
       "      <th>weight</th>\n",
       "      <th>piece_cnt</th>\n",
       "      <th>minifig_cnt</th>\n",
       "    </tr>\n",
       "  </thead>\n",
       "  <tbody>\n",
       "    <tr>\n",
       "      <th>0</th>\n",
       "      <td>858-1</td>\n",
       "      <td>Auto Engines</td>\n",
       "      <td>NaN</td>\n",
       "      <td>NaN</td>\n",
       "      <td>51.0</td>\n",
       "      <td>4.5</td>\n",
       "      <td>2.0</td>\n",
       "      <td>Technical</td>\n",
       "      <td>Technic</td>\n",
       "      <td>NaN</td>\n",
       "      <td>NaN</td>\n",
       "      <td>1980.0</td>\n",
       "      <td>NaN</td>\n",
       "      <td>NaN</td>\n",
       "      <td>242.0</td>\n",
       "      <td>0.0</td>\n",
       "    </tr>\n",
       "    <tr>\n",
       "      <th>1</th>\n",
       "      <td>1591-1</td>\n",
       "      <td>Danone Delivery Truck</td>\n",
       "      <td>NaN</td>\n",
       "      <td>129.0</td>\n",
       "      <td>28.0</td>\n",
       "      <td>NaN</td>\n",
       "      <td>NaN</td>\n",
       "      <td>Modern day</td>\n",
       "      <td>Town</td>\n",
       "      <td>Special</td>\n",
       "      <td>NaN</td>\n",
       "      <td>1980.0</td>\n",
       "      <td>NaN</td>\n",
       "      <td>NaN</td>\n",
       "      <td>40.0</td>\n",
       "      <td>0.0</td>\n",
       "    </tr>\n",
       "    <tr>\n",
       "      <th>2</th>\n",
       "      <td>1592-1</td>\n",
       "      <td>Town Square - Castle Scene</td>\n",
       "      <td>NaN</td>\n",
       "      <td>1168.0</td>\n",
       "      <td>191.0</td>\n",
       "      <td>4.8</td>\n",
       "      <td>4.0</td>\n",
       "      <td>Modern day</td>\n",
       "      <td>Town</td>\n",
       "      <td>Classic</td>\n",
       "      <td>NaN</td>\n",
       "      <td>1980.0</td>\n",
       "      <td>NaN</td>\n",
       "      <td>NaN</td>\n",
       "      <td>471.0</td>\n",
       "      <td>11.0</td>\n",
       "    </tr>\n",
       "  </tbody>\n",
       "</table>\n",
       "</div>"
      ],
      "text/plain": [
       "   set_no                        name  price_store  price_new  price_used  \\\n",
       "0   858-1                Auto Engines          NaN        NaN        51.0   \n",
       "1  1591-1       Danone Delivery Truck          NaN      129.0        28.0   \n",
       "2  1592-1  Town Square - Castle Scene          NaN     1168.0       191.0   \n",
       "\n",
       "   rating_value  rating_votes theme_group    theme subtheme  main_tag    year  \\\n",
       "0           4.5           2.0   Technical  Technic      NaN       NaN  1980.0   \n",
       "1           NaN           NaN  Modern day     Town  Special       NaN  1980.0   \n",
       "2           4.8           4.0  Modern day     Town  Classic       NaN  1980.0   \n",
       "\n",
       "   volume  weight  piece_cnt  minifig_cnt  \n",
       "0     NaN     NaN      242.0          0.0  \n",
       "1     NaN     NaN       40.0          0.0  \n",
       "2     NaN     NaN      471.0         11.0  "
      ]
     },
     "execution_count": 5,
     "metadata": {},
     "output_type": "execute_result"
    }
   ],
   "source": [
    "# use a sample csv file\n",
    "\n",
    "brickFile = os.path.join(DATA_PATH, 'brickset_set_filter.csv')\n",
    "brickDf = PD.read_csv(brickFile)\n",
    "brickDf.head(3)"
   ]
  },
  {
   "cell_type": "code",
   "execution_count": 6,
   "metadata": {
    "scrolled": false
   },
   "outputs": [
    {
     "name": "stdout",
     "output_type": "stream",
     "text": [
      "<class 'pandas.core.frame.DataFrame'>\n",
      "RangeIndex: 6181 entries, 0 to 6180\n",
      "Data columns (total 16 columns):\n",
      " #   Column        Non-Null Count  Dtype  \n",
      "---  ------        --------------  -----  \n",
      " 0   set_no        6181 non-null   object \n",
      " 1   name          6181 non-null   object \n",
      " 2   price_store   4767 non-null   float64\n",
      " 3   price_new     5780 non-null   float64\n",
      " 4   price_used    5489 non-null   float64\n",
      " 5   rating_value  5005 non-null   float64\n",
      " 6   rating_votes  5005 non-null   float64\n",
      " 7   theme_group   6181 non-null   object \n",
      " 8   theme         6181 non-null   object \n",
      " 9   subtheme      4494 non-null   object \n",
      " 10  main_tag      0 non-null      float64\n",
      " 11  year          6181 non-null   float64\n",
      " 12  volume        2418 non-null   float64\n",
      " 13  weight        2453 non-null   float64\n",
      " 14  piece_cnt     6137 non-null   float64\n",
      " 15  minifig_cnt   6181 non-null   float64\n",
      "dtypes: float64(11), object(5)\n",
      "memory usage: 772.8+ KB\n"
     ]
    }
   ],
   "source": [
    "brickDf.info()"
   ]
  },
  {
   "cell_type": "markdown",
   "metadata": {},
   "source": [
    "### Sample Operations"
   ]
  },
  {
   "cell_type": "code",
   "execution_count": 7,
   "metadata": {},
   "outputs": [
    {
     "data": {
      "text/plain": [
       "(5262, 16)"
      ]
     },
     "execution_count": 7,
     "metadata": {},
     "output_type": "execute_result"
    }
   ],
   "source": [
    "# delete rows without data\n",
    "\n",
    "fullDf = brickDf[brickDf['price_new'].notna() & brickDf['price_used'].notna()]\n",
    "fullDf.shape"
   ]
  },
  {
   "cell_type": "code",
   "execution_count": 8,
   "metadata": {},
   "outputs": [
    {
     "name": "stdout",
     "output_type": "stream",
     "text": [
      "<class 'pandas.core.frame.DataFrame'>\n",
      "RangeIndex: 6181 entries, 0 to 6180\n",
      "Data columns (total 10 columns):\n",
      " #   Column       Non-Null Count  Dtype  \n",
      "---  ------       --------------  -----  \n",
      " 0   set_no       6181 non-null   object \n",
      " 1   name         6181 non-null   object \n",
      " 2   price_store  4767 non-null   float64\n",
      " 3   price_new    5780 non-null   float64\n",
      " 4   price_used   5489 non-null   float64\n",
      " 5   theme_group  6181 non-null   object \n",
      " 6   theme        6181 non-null   object \n",
      " 7   year         6181 non-null   float64\n",
      " 8   piece_cnt    6137 non-null   float64\n",
      " 9   minifig_cnt  6181 non-null   float64\n",
      "dtypes: float64(6), object(4)\n",
      "memory usage: 483.0+ KB\n"
     ]
    }
   ],
   "source": [
    "# drop columns\n",
    "\n",
    "dropCols = ['rating_value', 'rating_votes', 'main_tag', 'subtheme', 'volume', 'weight']\n",
    "trimDf = brickDf.drop(dropCols, axis=1, errors='ignore')\n",
    "trimDf.info()"
   ]
  },
  {
   "cell_type": "code",
   "execution_count": 9,
   "metadata": {
    "scrolled": false
   },
   "outputs": [
    {
     "name": "stdout",
     "output_type": "stream",
     "text": [
      "<class 'pandas.core.frame.DataFrame'>\n",
      "RangeIndex: 6181 entries, 0 to 6180\n",
      "Data columns (total 16 columns):\n",
      " #   Column        Non-Null Count  Dtype  \n",
      "---  ------        --------------  -----  \n",
      " 0   SetNo         6181 non-null   object \n",
      " 1   name          6181 non-null   object \n",
      " 2   price_store   4767 non-null   float64\n",
      " 3   price_new     5780 non-null   float64\n",
      " 4   price_used    5489 non-null   float64\n",
      " 5   rating_value  5005 non-null   float64\n",
      " 6   rating_votes  5005 non-null   float64\n",
      " 7   theme_group   6181 non-null   object \n",
      " 8   theme         6181 non-null   object \n",
      " 9   subtheme      4494 non-null   object \n",
      " 10  main_tag      0 non-null      float64\n",
      " 11  year          6181 non-null   float64\n",
      " 12  volume        2418 non-null   float64\n",
      " 13  weight        2453 non-null   float64\n",
      " 14  piece_cnt     6137 non-null   float64\n",
      " 15  minifig_cnt   6181 non-null   float64\n",
      "dtypes: float64(11), object(5)\n",
      "memory usage: 772.8+ KB\n"
     ]
    }
   ],
   "source": [
    "# rename\n",
    "\n",
    "renameDf = brickDf.rename({'set_no': 'SetNo'}, axis='columns')\n",
    "renameDf.info()"
   ]
  },
  {
   "cell_type": "code",
   "execution_count": 10,
   "metadata": {},
   "outputs": [
    {
     "name": "stderr",
     "output_type": "stream",
     "text": [
      "<ipython-input-10-9340c7b93001>:4: SettingWithCopyWarning: \n",
      "A value is trying to be set on a copy of a slice from a DataFrame.\n",
      "Try using .loc[row_indexer,col_indexer] = value instead\n",
      "\n",
      "See the caveats in the documentation: https://pandas.pydata.org/pandas-docs/stable/user_guide/indexing.html#returning-a-view-versus-a-copy\n",
      "  aftermarketDf['aftermarket'] = aftermarketDf.apply(\n"
     ]
    },
    {
     "data": {
      "text/html": [
       "<div>\n",
       "<style scoped>\n",
       "    .dataframe tbody tr th:only-of-type {\n",
       "        vertical-align: middle;\n",
       "    }\n",
       "\n",
       "    .dataframe tbody tr th {\n",
       "        vertical-align: top;\n",
       "    }\n",
       "\n",
       "    .dataframe thead th {\n",
       "        text-align: right;\n",
       "    }\n",
       "</style>\n",
       "<table border=\"1\" class=\"dataframe\">\n",
       "  <thead>\n",
       "    <tr style=\"text-align: right;\">\n",
       "      <th></th>\n",
       "      <th>set_no</th>\n",
       "      <th>name</th>\n",
       "      <th>price_new</th>\n",
       "      <th>price_used</th>\n",
       "      <th>aftermarket</th>\n",
       "    </tr>\n",
       "  </thead>\n",
       "  <tbody>\n",
       "    <tr>\n",
       "      <th>1</th>\n",
       "      <td>1591-1</td>\n",
       "      <td>Danone Delivery Truck</td>\n",
       "      <td>129.0</td>\n",
       "      <td>28.0</td>\n",
       "      <td>-101.0</td>\n",
       "    </tr>\n",
       "    <tr>\n",
       "      <th>2</th>\n",
       "      <td>1592-1</td>\n",
       "      <td>Town Square - Castle Scene</td>\n",
       "      <td>1168.0</td>\n",
       "      <td>191.0</td>\n",
       "      <td>-977.0</td>\n",
       "    </tr>\n",
       "    <tr>\n",
       "      <th>5</th>\n",
       "      <td>3604-1</td>\n",
       "      <td>Mark Monkey with his Fruit Stall</td>\n",
       "      <td>18.0</td>\n",
       "      <td>7.0</td>\n",
       "      <td>-11.0</td>\n",
       "    </tr>\n",
       "    <tr>\n",
       "      <th>6</th>\n",
       "      <td>3605-1</td>\n",
       "      <td>Ricky Racoon and his Scooter</td>\n",
       "      <td>18.0</td>\n",
       "      <td>4.0</td>\n",
       "      <td>-14.0</td>\n",
       "    </tr>\n",
       "    <tr>\n",
       "      <th>7</th>\n",
       "      <td>3634-1</td>\n",
       "      <td>Charlie Crow's Carry-All</td>\n",
       "      <td>90.0</td>\n",
       "      <td>13.0</td>\n",
       "      <td>-77.0</td>\n",
       "    </tr>\n",
       "  </tbody>\n",
       "</table>\n",
       "</div>"
      ],
      "text/plain": [
       "   set_no                              name  price_new  price_used  \\\n",
       "1  1591-1             Danone Delivery Truck      129.0        28.0   \n",
       "2  1592-1        Town Square - Castle Scene     1168.0       191.0   \n",
       "5  3604-1  Mark Monkey with his Fruit Stall       18.0         7.0   \n",
       "6  3605-1      Ricky Racoon and his Scooter       18.0         4.0   \n",
       "7  3634-1          Charlie Crow's Carry-All       90.0        13.0   \n",
       "\n",
       "   aftermarket  \n",
       "1       -101.0  \n",
       "2       -977.0  \n",
       "5        -11.0  \n",
       "6        -14.0  \n",
       "7        -77.0  "
      ]
     },
     "execution_count": 10,
     "metadata": {},
     "output_type": "execute_result"
    }
   ],
   "source": [
    "# create new composite column\n",
    "\n",
    "aftermarketDf = fullDf[['set_no', 'name', 'price_new', 'price_used']]\n",
    "aftermarketDf['aftermarket'] = aftermarketDf.apply(\n",
    "                                lambda x: x['price_used'] - x['price_new'], axis=1)\n",
    "aftermarketDf.head()"
   ]
  },
  {
   "cell_type": "code",
   "execution_count": 11,
   "metadata": {},
   "outputs": [
    {
     "name": "stdout",
     "output_type": "stream",
     "text": [
      "5262\n"
     ]
    }
   ],
   "source": [
    "# convert to list of dicts\n",
    "\n",
    "dataLs = DataframeToDicts(fullDf) \n",
    "print(len(dataLs))"
   ]
  },
  {
   "cell_type": "code",
   "execution_count": 12,
   "metadata": {},
   "outputs": [
    {
     "name": "stdout",
     "output_type": "stream",
     "text": [
      "set_no              4453-1\n",
      "name           Goal Keeper\n",
      "price_new              9.0\n",
      "price_used             5.0\n",
      "aftermarket           -4.0\n",
      "Name: 2000, dtype: object\n",
      "set_no                 3315-1\n",
      "name           Olivia's House\n",
      "price_new               101.0\n",
      "price_used               42.0\n",
      "aftermarket             -59.0\n",
      "Name: 4000, dtype: object\n"
     ]
    }
   ],
   "source": [
    "# loop through rows\n",
    "\n",
    "for n, r in aftermarketDf.iterrows():\n",
    "    if n % 2000 == 0:\n",
    "        print(r)"
   ]
  },
  {
   "cell_type": "code",
   "execution_count": 13,
   "metadata": {},
   "outputs": [
    {
     "data": {
      "text/html": [
       "<div>\n",
       "<style scoped>\n",
       "    .dataframe tbody tr th:only-of-type {\n",
       "        vertical-align: middle;\n",
       "    }\n",
       "\n",
       "    .dataframe tbody tr th {\n",
       "        vertical-align: top;\n",
       "    }\n",
       "\n",
       "    .dataframe thead th {\n",
       "        text-align: right;\n",
       "    }\n",
       "</style>\n",
       "<table border=\"1\" class=\"dataframe\">\n",
       "  <thead>\n",
       "    <tr style=\"text-align: right;\">\n",
       "      <th></th>\n",
       "      <th>theme_group</th>\n",
       "      <th>set_no count</th>\n",
       "    </tr>\n",
       "  </thead>\n",
       "  <tbody>\n",
       "    <tr>\n",
       "      <th>0</th>\n",
       "      <td>Action/Adventure</td>\n",
       "      <td>870</td>\n",
       "    </tr>\n",
       "    <tr>\n",
       "      <th>1</th>\n",
       "      <td>Constraction</td>\n",
       "      <td>405</td>\n",
       "    </tr>\n",
       "    <tr>\n",
       "      <th>2</th>\n",
       "      <td>Girls</td>\n",
       "      <td>432</td>\n",
       "    </tr>\n",
       "    <tr>\n",
       "      <th>3</th>\n",
       "      <td>Historical</td>\n",
       "      <td>432</td>\n",
       "    </tr>\n",
       "    <tr>\n",
       "      <th>4</th>\n",
       "      <td>Junior</td>\n",
       "      <td>212</td>\n",
       "    </tr>\n",
       "    <tr>\n",
       "      <th>5</th>\n",
       "      <td>Licensed</td>\n",
       "      <td>1313</td>\n",
       "    </tr>\n",
       "    <tr>\n",
       "      <th>6</th>\n",
       "      <td>Model making</td>\n",
       "      <td>496</td>\n",
       "    </tr>\n",
       "    <tr>\n",
       "      <th>7</th>\n",
       "      <td>Modern day</td>\n",
       "      <td>1351</td>\n",
       "    </tr>\n",
       "    <tr>\n",
       "      <th>8</th>\n",
       "      <td>Racing</td>\n",
       "      <td>224</td>\n",
       "    </tr>\n",
       "    <tr>\n",
       "      <th>9</th>\n",
       "      <td>Technical</td>\n",
       "      <td>446</td>\n",
       "    </tr>\n",
       "  </tbody>\n",
       "</table>\n",
       "</div>"
      ],
      "text/plain": [
       "        theme_group  set_no count\n",
       "0  Action/Adventure           870\n",
       "1      Constraction           405\n",
       "2             Girls           432\n",
       "3        Historical           432\n",
       "4            Junior           212\n",
       "5          Licensed          1313\n",
       "6      Model making           496\n",
       "7        Modern day          1351\n",
       "8            Racing           224\n",
       "9         Technical           446"
      ]
     },
     "execution_count": 13,
     "metadata": {},
     "output_type": "execute_result"
    }
   ],
   "source": [
    "# aggregate operation\n",
    "# use the set no as the 100% complete column\n",
    "\n",
    "summaryDf = trimDf.groupby(['theme_group']).agg(['count'])\n",
    "summaryDf.columns = [' '.join(str(c) for c in col) for col in summaryDf.columns]\n",
    "summaryDf = summaryDf.reset_index()[['theme_group', 'set_no count']]\n",
    "#summaryDf.sort_values('set_no count', ascending=False)\n",
    "summaryDf"
   ]
  },
  {
   "cell_type": "code",
   "execution_count": null,
   "metadata": {},
   "outputs": [],
   "source": []
  }
 ],
 "metadata": {
  "kernelspec": {
   "display_name": "Python 3",
   "language": "python",
   "name": "python3"
  },
  "language_info": {
   "codemirror_mode": {
    "name": "ipython",
    "version": 3
   },
   "file_extension": ".py",
   "mimetype": "text/x-python",
   "name": "python",
   "nbconvert_exporter": "python",
   "pygments_lexer": "ipython3",
   "version": "3.9.5"
  }
 },
 "nbformat": 4,
 "nbformat_minor": 4
}
