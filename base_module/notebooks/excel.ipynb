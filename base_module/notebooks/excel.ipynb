{
 "cells": [
  {
   "cell_type": "markdown",
   "metadata": {},
   "source": [
    "# Excel Helper \n",
    "\n",
    "**Author:** "
   ]
  },
  {
   "cell_type": "code",
   "execution_count": 1,
   "metadata": {},
   "outputs": [],
   "source": [
    "import os, sys\n",
    "import pandas as PD"
   ]
  },
  {
   "cell_type": "code",
   "execution_count": 2,
   "metadata": {},
   "outputs": [
    {
     "name": "stdout",
     "output_type": "stream",
     "text": [
      "C:\\Users\\pbusko\\Projects\\QualityCuration\\base_module\n"
     ]
    }
   ],
   "source": [
    "MODULE_PATH = os.path.dirname(os.getcwd())\n",
    "DATA_PATH = os.path.join(MODULE_PATH, 'data')\n",
    "LOGIC_PATH = os.path.join(MODULE_PATH, 'logic')\n",
    "sys.path.append(LOGIC_PATH)\n",
    "print(MODULE_PATH)"
   ]
  },
  {
   "cell_type": "code",
   "execution_count": 3,
   "metadata": {},
   "outputs": [
    {
     "name": "stdout",
     "output_type": "stream",
     "text": [
      "['getNowStamp']\n"
     ]
    }
   ],
   "source": [
    "import utility as UT\n",
    "print([x for x in dir(UT) if '_' not in x and len(x) > 8])"
   ]
  },
  {
   "cell_type": "code",
   "execution_count": 4,
   "metadata": {},
   "outputs": [],
   "source": [
    "%load_ext autoreload\n",
    "%autoreload 2\n",
    "from IPython.core.interactiveshell import InteractiveShell\n",
    "InteractiveShell.ast_node_interactivity = 'all'\n",
    "import IPython.display as DS \n",
    "from ipywidgets import IntProgress"
   ]
  },
  {
   "cell_type": "markdown",
   "metadata": {},
   "source": [
    "### Begin Code"
   ]
  },
  {
   "cell_type": "code",
   "execution_count": 5,
   "metadata": {},
   "outputs": [],
   "source": [
    "# write to excel file\n",
    "\n",
    "devPath = os.path.join(DATA_PATH, 'dev-workbook.xlsx')\n",
    "writer = PD.ExcelWriter(devPath, engine='openpyxl')\n",
    "\n",
    "devDf = PD.DataFrame([{'a': 1, 'b': 2}, {'a': 3, 'b': 4}, {'a': 5, 'b': 6}, ])\n",
    "devDf.to_excel(writer, sheet_name='Sheet 1', index=False)\n",
    "\n",
    "writer.close()"
   ]
  },
  {
   "cell_type": "code",
   "execution_count": 6,
   "metadata": {},
   "outputs": [
    {
     "data": {
      "text/plain": [
       "['Sheet 1']"
      ]
     },
     "execution_count": 6,
     "metadata": {},
     "output_type": "execute_result"
    },
    {
     "data": {
      "text/html": [
       "<div>\n",
       "<style scoped>\n",
       "    .dataframe tbody tr th:only-of-type {\n",
       "        vertical-align: middle;\n",
       "    }\n",
       "\n",
       "    .dataframe tbody tr th {\n",
       "        vertical-align: top;\n",
       "    }\n",
       "\n",
       "    .dataframe thead th {\n",
       "        text-align: right;\n",
       "    }\n",
       "</style>\n",
       "<table border=\"1\" class=\"dataframe\">\n",
       "  <thead>\n",
       "    <tr style=\"text-align: right;\">\n",
       "      <th></th>\n",
       "      <th>a</th>\n",
       "      <th>b</th>\n",
       "    </tr>\n",
       "  </thead>\n",
       "  <tbody>\n",
       "    <tr>\n",
       "      <th>0</th>\n",
       "      <td>1</td>\n",
       "      <td>2</td>\n",
       "    </tr>\n",
       "    <tr>\n",
       "      <th>1</th>\n",
       "      <td>3</td>\n",
       "      <td>4</td>\n",
       "    </tr>\n",
       "    <tr>\n",
       "      <th>2</th>\n",
       "      <td>5</td>\n",
       "      <td>6</td>\n",
       "    </tr>\n",
       "  </tbody>\n",
       "</table>\n",
       "</div>"
      ],
      "text/plain": [
       "   a  b\n",
       "0  1  2\n",
       "1  3  4\n",
       "2  5  6"
      ]
     },
     "execution_count": 6,
     "metadata": {},
     "output_type": "execute_result"
    }
   ],
   "source": [
    "# read excel file\n",
    "\n",
    "devPath = os.path.join(DATA_PATH, 'dev-workbook.xlsx')\n",
    "excelFl = PD.ExcelFile(devPath)\n",
    "sheetLs = excelFl.sheet_names\n",
    "sheetDf = PD.read_excel(excelFl, 'Sheet 1')\n",
    "excelFl.close()\n",
    "\n",
    "sheetLs\n",
    "sheetDf"
   ]
  },
  {
   "cell_type": "code",
   "execution_count": 7,
   "metadata": {},
   "outputs": [],
   "source": [
    "# function to append data to an excel sheet\n",
    "\n",
    "def appendToExcel(updateLs, sheetName):\n",
    "\n",
    "    # check for the file\n",
    "\n",
    "    reportPath = os.path.join(DATA_PATH, 'report.xlsx')\n",
    "    if os.path.exists(reportPath) == False:\n",
    "        writer = PD.ExcelWriter(reportPath, engine='openpyxl')\n",
    "    else:\n",
    "        writer = PD.ExcelWriter(reportPath, engine='openpyxl', mode='a')\n",
    "\n",
    "    # check for the sheet\n",
    "\n",
    "    sheetLs = [x.title for x in writer.book.worksheets]\n",
    "    if sheetName not in sheetLs:\n",
    "        reportDf = PD.DataFrame()\n",
    "    else:\n",
    "        excelFl = PD.ExcelFile(reportPath)\n",
    "        reportDf = PD.read_excel(excelFl, sheetName, dtype=str)\n",
    "        excelFl.close()\n",
    "\n",
    "    # append data and overwrite excel\n",
    "\n",
    "    updateDf = PD.DataFrame(updateLs, dtype=str)\n",
    "    reportDf = PD.concat([reportDf, updateDf])\n",
    "    writer.sheets = dict((ws.title, ws) for ws in writer.book.worksheets)   # set sheets so it replaces correctly\n",
    "    reportDf.to_excel(writer, sheet_name=sheetName, index=False)\n",
    "    writer.close()"
   ]
  },
  {
   "cell_type": "code",
   "execution_count": 8,
   "metadata": {},
   "outputs": [],
   "source": [
    "# function to delete a file\n",
    "\n",
    "def resetReportFile():\n",
    "    reportPath = os.path.join(DATA_PATH, 'report.xlsx')\n",
    "    if os.path.exists(reportPath): os.remove(reportPath)"
   ]
  },
  {
   "cell_type": "code",
   "execution_count": 9,
   "metadata": {},
   "outputs": [],
   "source": [
    "# function to delete a sheet in the file\n",
    "\n",
    "def resetSheet(sheetName):\n",
    "    reportPath = os.path.join(DATA_PATH, 'report.xlsx')\n",
    "    try:\n",
    "        writer = PD.ExcelWriter(reportPath, engine='openpyxl', mode='a')\n",
    "        writer.sheets = dict((ws.title, ws) for ws in writer.book.worksheets) \n",
    "    except:\n",
    "        print(f\"no excel file found\")\n",
    "        return\n",
    "    try:\n",
    "        sheetRef = writer.book[sheetName]\n",
    "        writer.book.remove(sheetRef)\n",
    "        print(\"sheet removed\")\n",
    "    except:\n",
    "        print(f\"no sheet found: {sheetName}\")\n",
    "    writer.close()"
   ]
  },
  {
   "cell_type": "code",
   "execution_count": null,
   "metadata": {},
   "outputs": [],
   "source": []
  }
 ],
 "metadata": {
  "kernelspec": {
   "display_name": "Python 3",
   "language": "python",
   "name": "python3"
  },
  "language_info": {
   "codemirror_mode": {
    "name": "ipython",
    "version": 3
   },
   "file_extension": ".py",
   "mimetype": "text/x-python",
   "name": "python",
   "nbconvert_exporter": "python",
   "pygments_lexer": "ipython3",
   "version": "3.9.5"
  }
 },
 "nbformat": 4,
 "nbformat_minor": 4
}
