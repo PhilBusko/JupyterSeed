{
 "cells": [
  {
   "cell_type": "markdown",
   "metadata": {},
   "source": [
    "# Download An Artist\n",
    "\n",
    "**Objective:** Download the next images from an artist's gallery.\n"
   ]
  },
  {
   "cell_type": "code",
   "execution_count": 1,
   "metadata": {},
   "outputs": [],
   "source": [
    "import os, sys, json, random\n",
    "import pandas as PD\n",
    "import numpy as NP"
   ]
  },
  {
   "cell_type": "code",
   "execution_count": 2,
   "metadata": {},
   "outputs": [
    {
     "name": "stdout",
     "output_type": "stream",
     "text": [
      "C:\\Documents\\Code\\OpenStack\\Current\\MediaManager\\codebase\\pictures_manager\n"
     ]
    }
   ],
   "source": [
    "MODULE_PATH = os.path.dirname(os.getcwd())\n",
    "DATA_PATH = os.path.join(MODULE_PATH, 'data')\n",
    "LOGIC_PATH = os.path.join(MODULE_PATH, 'logic')\n",
    "sys.path.append(LOGIC_PATH)\n",
    "print(MODULE_PATH)"
   ]
  },
  {
   "cell_type": "code",
   "execution_count": 3,
   "metadata": {},
   "outputs": [
    {
     "name": "stdout",
     "output_type": "stream",
     "text": [
      "['openConnection']\n",
      "sqlite:///C:\\Documents\\Code\\OpenStack\\Current\\MediaManager\\codebase\\pictures_manager\\data\\fiction.db\n"
     ]
    }
   ],
   "source": [
    "import sqlalchemy as SQL\n",
    "import database_helper as DB\n",
    "print([x for x in dir(DB) if '_' not in x and len(x) > 8])\n",
    "dbPath = os.path.join(DATA_PATH, 'fiction.db')\n",
    "meta, engine = DB.openConnection(dbPath)\n",
    "artistTb = meta.tables.get('ArtistTracker')"
   ]
  },
  {
   "cell_type": "code",
   "execution_count": 4,
   "metadata": {},
   "outputs": [
    {
     "name": "stdout",
     "output_type": "stream",
     "text": [
      "['DeviantArtScraper']\n"
     ]
    }
   ],
   "source": [
    "import deviantart_scraper as SC\n",
    "print([x for x in dir(SC) if '_' not in x and len(x) > 8])"
   ]
  },
  {
   "cell_type": "code",
   "execution_count": 5,
   "metadata": {},
   "outputs": [],
   "source": [
    "%load_ext autoreload\n",
    "%autoreload 2\n",
    "from IPython.core.interactiveshell import InteractiveShell\n",
    "InteractiveShell.ast_node_interactivity = 'all'\n",
    "import IPython.display as DS \n",
    "from ipywidgets import IntProgress"
   ]
  },
  {
   "cell_type": "markdown",
   "metadata": {},
   "source": [
    "### Download Gallery"
   ]
  },
  {
   "cell_type": "code",
   "execution_count": 6,
   "metadata": {
    "scrolled": true
   },
   "outputs": [
    {
     "name": "stdout",
     "output_type": "stream",
     "text": [
      "<selenium.webdriver.firefox.webdriver.WebDriver (session=\"6f398f28-5e45-4c35-b204-a3901f3eda11\")>\n",
      "https://www.deviantart.com/\n",
      "images: 57\n",
      "images: 95\n",
      "images: 150\n",
      "images: 211\n",
      "images: 261\n",
      "images: 264\n",
      "images found: 264\n"
     ]
    },
    {
     "data": {
      "application/vnd.jupyter.widget-view+json": {
       "model_id": "d45afadf0b284820af7a5d3619b644a7",
       "version_major": 2,
       "version_minor": 0
      },
      "text/plain": [
       "IntProgress(value=0, max=264)"
      ]
     },
     "metadata": {},
     "output_type": "display_data"
    }
   ],
   "source": [
    "# download the images\n",
    "\n",
    "dlDeviantId = 'Zoisite-Virupaksha'     #      \n",
    "dlCollectionId = 'zoisite'     \n",
    "\n",
    "scraper = SC.DeviantArtScraper()\n",
    "scraper.logIn('collectix', 'dev1ant')\n",
    "\n",
    "artPages = scraper.getArtPages(dlDeviantId)\n",
    "print(f\"images found: {len(artPages)}\")\n",
    "\n",
    "progressBar = IntProgress(min=0, max=len(artPages)) \n",
    "DS.display(progressBar) \n",
    "for link in artPages:\n",
    "    try:\n",
    "        scraper.downloadArt(link, 'cosplay', dlCollectionId)\n",
    "    except Exception as ex:\n",
    "        print(link)\n",
    "        print(ex)\n",
    "    progressBar.value += 1\n",
    "\n",
    "scraper.close()"
   ]
  },
  {
   "cell_type": "code",
   "execution_count": 7,
   "metadata": {},
   "outputs": [
    {
     "name": "stdout",
     "output_type": "stream",
     "text": [
      "(sqlite3.IntegrityError) UNIQUE constraint failed: ArtistTracker.collectionId, ArtistTracker.deviantId\n",
      "[SQL: INSERT INTO \"ArtistTracker\" (\"collectionId\", \"deviantId\", \"artistType\", status, downloaded) VALUES (?, ?, ?, ?, ?)]\n",
      "[parameters: ('zoisite', 'Zoisite-Virupaksha', 'cosplay', '2021-06', 264)]\n",
      "(Background on this error at: http://sqlalche.me/e/14/gkpj)\n"
     ]
    },
    {
     "data": {
      "text/html": [
       "<div>\n",
       "<style scoped>\n",
       "    .dataframe tbody tr th:only-of-type {\n",
       "        vertical-align: middle;\n",
       "    }\n",
       "\n",
       "    .dataframe tbody tr th {\n",
       "        vertical-align: top;\n",
       "    }\n",
       "\n",
       "    .dataframe thead th {\n",
       "        text-align: right;\n",
       "    }\n",
       "</style>\n",
       "<table border=\"1\" class=\"dataframe\">\n",
       "  <thead>\n",
       "    <tr style=\"text-align: right;\">\n",
       "      <th></th>\n",
       "      <th>id</th>\n",
       "      <th>collectionId</th>\n",
       "      <th>deviantId</th>\n",
       "      <th>artistType</th>\n",
       "      <th>status</th>\n",
       "      <th>favourites</th>\n",
       "      <th>collected</th>\n",
       "      <th>downloaded</th>\n",
       "    </tr>\n",
       "  </thead>\n",
       "  <tbody>\n",
       "    <tr>\n",
       "      <th>0</th>\n",
       "      <td>467</td>\n",
       "      <td>zoisite</td>\n",
       "      <td>Zoisite-Virupaksha</td>\n",
       "      <td>cosplay</td>\n",
       "      <td>2021-06</td>\n",
       "      <td>False</td>\n",
       "      <td>None</td>\n",
       "      <td>13</td>\n",
       "    </tr>\n",
       "  </tbody>\n",
       "</table>\n",
       "</div>"
      ],
      "text/plain": [
       "    id collectionId           deviantId artistType   status  favourites  \\\n",
       "0  467      zoisite  Zoisite-Virupaksha    cosplay  2021-06       False   \n",
       "\n",
       "  collected  downloaded  \n",
       "0      None          13  "
      ]
     },
     "execution_count": 7,
     "metadata": {},
     "output_type": "execute_result"
    }
   ],
   "source": [
    "# create the new artist entry\n",
    "\n",
    "try:\n",
    "    SQL.insert(artistTb).values(\n",
    "        {'collectionId': dlCollectionId, 'deviantId': dlDeviantId, 'artistType': 'cosplay', \n",
    "         'status': '2021-06', 'downloaded': len(artPages)}).execute()\n",
    "except Exception as ex:\n",
    "    print(ex)\n",
    "\n",
    "statement = SQL.select(artistTb).where(artistTb.c.deviantId==dlDeviantId)\n",
    "results = statement.execute()\n",
    "resultsDx = [dict(x) for x in results]\n",
    "PD.DataFrame(resultsDx).head()"
   ]
  },
  {
   "cell_type": "code",
   "execution_count": 8,
   "metadata": {},
   "outputs": [],
   "source": [
    "# check file count in folder \n",
    "\n",
    "\n"
   ]
  },
  {
   "cell_type": "code",
   "execution_count": 9,
   "metadata": {},
   "outputs": [
    {
     "ename": "SyntaxError",
     "evalue": "invalid syntax (<ipython-input-9-1c7c1c253f9f>, line 3)",
     "output_type": "error",
     "traceback": [
      "\u001b[1;36m  File \u001b[1;32m\"<ipython-input-9-1c7c1c253f9f>\"\u001b[1;36m, line \u001b[1;32m3\u001b[0m\n\u001b[1;33m    from IPyt hon.display import Audio\u001b[0m\n\u001b[1;37m              ^\u001b[0m\n\u001b[1;31mSyntaxError\u001b[0m\u001b[1;31m:\u001b[0m invalid syntax\n"
     ]
    }
   ],
   "source": [
    "# play sound to notify \n",
    "\n",
    "from IPyt hon.display import Audio\n",
    "soundFile = os.path.join(DATA_PATH, 'magic-sound.wav')\n",
    "\n",
    "Audio(soundFile, autoplay=True)"
   ]
  },
  {
   "cell_type": "code",
   "execution_count": null,
   "metadata": {},
   "outputs": [],
   "source": []
  }
 ],
 "metadata": {
  "kernelspec": {
   "display_name": "Python 3",
   "language": "python",
   "name": "python3"
  },
  "language_info": {
   "codemirror_mode": {
    "name": "ipython",
    "version": 3
   },
   "file_extension": ".py",
   "mimetype": "text/x-python",
   "name": "python",
   "nbconvert_exporter": "python",
   "pygments_lexer": "ipython3",
   "version": "3.8.2"
  }
 },
 "nbformat": 4,
 "nbformat_minor": 4
}
