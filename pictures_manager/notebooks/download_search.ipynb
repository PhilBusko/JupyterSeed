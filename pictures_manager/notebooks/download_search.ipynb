{
 "cells": [
  {
   "cell_type": "markdown",
   "metadata": {},
   "source": [
    "# Search for an Artist\n",
    "\n",
    "**Objective:** Find an artist to download, marking the ones to skip.\n"
   ]
  },
  {
   "cell_type": "code",
   "execution_count": 1,
   "metadata": {},
   "outputs": [],
   "source": [
    "import os, sys, json, random\n",
    "import pandas as PD\n",
    "import numpy as NP"
   ]
  },
  {
   "cell_type": "code",
   "execution_count": 2,
   "metadata": {},
   "outputs": [
    {
     "name": "stdout",
     "output_type": "stream",
     "text": [
      "C:\\Documents\\Code\\OpenStack\\Current\\MediaManager\\codebase\\pictures_manager\n"
     ]
    }
   ],
   "source": [
    "MODULE_PATH = os.path.dirname(os.getcwd())\n",
    "DATA_PATH = os.path.join(MODULE_PATH, 'data')\n",
    "LOGIC_PATH = os.path.join(MODULE_PATH, 'logic')\n",
    "sys.path.append(LOGIC_PATH)\n",
    "print(MODULE_PATH)"
   ]
  },
  {
   "cell_type": "code",
   "execution_count": 3,
   "metadata": {},
   "outputs": [
    {
     "name": "stdout",
     "output_type": "stream",
     "text": [
      "['openConnection']\n",
      "sqlite:///C:\\Documents\\Code\\OpenStack\\Current\\MediaManager\\codebase\\pictures_manager\\data\\fiction.db\n"
     ]
    }
   ],
   "source": [
    "import sqlalchemy as SQL\n",
    "import database_helper as DB\n",
    "print([x for x in dir(DB) if '_' not in x and len(x) > 8])\n",
    "dbPath = os.path.join(DATA_PATH, 'fiction.db')\n",
    "meta, engine = DB.openConnection(dbPath)\n",
    "artistTb = meta.tables.get('ArtistTracker')"
   ]
  },
  {
   "cell_type": "code",
   "execution_count": 4,
   "metadata": {},
   "outputs": [
    {
     "name": "stdout",
     "output_type": "stream",
     "text": [
      "['DeviantArtScraper']\n"
     ]
    }
   ],
   "source": [
    "import deviantart_scraper as SC\n",
    "print([x for x in dir(SC) if '_' not in x and len(x) > 8])"
   ]
  },
  {
   "cell_type": "code",
   "execution_count": 5,
   "metadata": {},
   "outputs": [],
   "source": [
    "%load_ext autoreload\n",
    "%autoreload 2\n",
    "from IPython.core.interactiveshell import InteractiveShell\n",
    "InteractiveShell.ast_node_interactivity = 'all'\n",
    "import IPython.display as DS \n",
    "from ipywidgets import IntProgress"
   ]
  },
  {
   "cell_type": "markdown",
   "metadata": {},
   "source": [
    "### Search for Artist"
   ]
  },
  {
   "cell_type": "code",
   "execution_count": 6,
   "metadata": {},
   "outputs": [
    {
     "data": {
      "text/html": [
       "<div>\n",
       "<style scoped>\n",
       "    .dataframe tbody tr th:only-of-type {\n",
       "        vertical-align: middle;\n",
       "    }\n",
       "\n",
       "    .dataframe tbody tr th {\n",
       "        vertical-align: top;\n",
       "    }\n",
       "\n",
       "    .dataframe thead th {\n",
       "        text-align: right;\n",
       "    }\n",
       "</style>\n",
       "<table border=\"1\" class=\"dataframe\">\n",
       "  <thead>\n",
       "    <tr style=\"text-align: right;\">\n",
       "      <th></th>\n",
       "      <th>id</th>\n",
       "      <th>collectionId</th>\n",
       "      <th>deviantId</th>\n",
       "      <th>artistType</th>\n",
       "      <th>status</th>\n",
       "      <th>favourites</th>\n",
       "      <th>collected</th>\n",
       "      <th>downloaded</th>\n",
       "    </tr>\n",
       "  </thead>\n",
       "  <tbody>\n",
       "    <tr>\n",
       "      <th>0</th>\n",
       "      <td>312</td>\n",
       "      <td>angela.bz</td>\n",
       "      <td>angelabermudez</td>\n",
       "      <td>cosplay</td>\n",
       "      <td>2020-12</td>\n",
       "      <td>False</td>\n",
       "      <td>None</td>\n",
       "      <td>-1</td>\n",
       "    </tr>\n",
       "  </tbody>\n",
       "</table>\n",
       "</div>"
      ],
      "text/plain": [
       "    id collectionId       deviantId artistType   status  favourites collected  \\\n",
       "0  312    angela.bz  angelabermudez    cosplay  2020-12       False      None   \n",
       "\n",
       "   downloaded  \n",
       "0          -1  "
      ]
     },
     "execution_count": 6,
     "metadata": {},
     "output_type": "execute_result"
    }
   ],
   "source": [
    "# get a random artist whose favorites haven't been checked\n",
    "\n",
    "statement = SQL.select(artistTb).where(\n",
    "        (artistTb.c.favourites==False) & (artistTb.c.status!='skip') & (artistTb.c.artistType=='cosplay'))\n",
    "results = statement.execute()\n",
    "resultsDx = [dict(x) for x in results]\n",
    "\n",
    "random.seed(10)\n",
    "artistDx = random.choice(resultsDx)\n",
    "PD.DataFrame(artistDx, index=[0]).head()"
   ]
  },
  {
   "cell_type": "code",
   "execution_count": 27,
   "metadata": {},
   "outputs": [
    {
     "name": "stdout",
     "output_type": "stream",
     "text": [
      "UPDATE \"ArtistTracker\" SET \"deviantId\"=?, favourites=?, downloaded=? WHERE \"ArtistTracker\".\"deviantId\" = ?\n",
      "rows updated: 1\n"
     ]
    }
   ],
   "source": [
    "# update the current artist\n",
    "\n",
    "statement = SQL.update(artistTb\n",
    "        ).where(artistTb.c.deviantId=='LadyGiselle'  #artistTb.c.collectionId=='chinhy.sou'\n",
    "        ).values({ 'deviantId': 'LadyGiselle', 'favourites': True, 'downloaded': 140 })  # \n",
    "results = statement.execute()\n",
    "print(statement)\n",
    "print(f\"rows updated: {results.rowcount:,}\")"
   ]
  },
  {
   "cell_type": "code",
   "execution_count": 28,
   "metadata": {
    "scrolled": false
   },
   "outputs": [
    {
     "data": {
      "text/html": [
       "<div>\n",
       "<style scoped>\n",
       "    .dataframe tbody tr th:only-of-type {\n",
       "        vertical-align: middle;\n",
       "    }\n",
       "\n",
       "    .dataframe tbody tr th {\n",
       "        vertical-align: top;\n",
       "    }\n",
       "\n",
       "    .dataframe thead th {\n",
       "        text-align: right;\n",
       "    }\n",
       "</style>\n",
       "<table border=\"1\" class=\"dataframe\">\n",
       "  <thead>\n",
       "    <tr style=\"text-align: right;\">\n",
       "      <th></th>\n",
       "      <th>id</th>\n",
       "      <th>collectionId</th>\n",
       "      <th>deviantId</th>\n",
       "      <th>artistType</th>\n",
       "      <th>status</th>\n",
       "      <th>favourites</th>\n",
       "      <th>collected</th>\n",
       "      <th>downloaded</th>\n",
       "    </tr>\n",
       "  </thead>\n",
       "  <tbody>\n",
       "    <tr>\n",
       "      <th>0</th>\n",
       "      <td>404</td>\n",
       "      <td>ld.giselle</td>\n",
       "      <td>LadyGiselle</td>\n",
       "      <td>cosplay</td>\n",
       "      <td>2021-05</td>\n",
       "      <td>True</td>\n",
       "      <td>None</td>\n",
       "      <td>140</td>\n",
       "    </tr>\n",
       "  </tbody>\n",
       "</table>\n",
       "</div>"
      ],
      "text/plain": [
       "    id collectionId    deviantId artistType   status  favourites collected  \\\n",
       "0  404   ld.giselle  LadyGiselle    cosplay  2021-05        True      None   \n",
       "\n",
       "   downloaded  \n",
       "0         140  "
      ]
     },
     "execution_count": 28,
     "metadata": {},
     "output_type": "execute_result"
    }
   ],
   "source": [
    "# check an artist\n",
    "\n",
    "searchDeviantId = 'LadyGiselle'\n",
    "\n",
    "statement = SQL.select(artistTb).where(SQL.or_(\n",
    "    SQL.func.lower(artistTb.c.deviantId)==searchDeviantId.lower(),\n",
    "    artistTb.c.collectionId.ilike(f\"%{searchDeviantId.lower()}%\")))\n",
    "results = statement.execute()\n",
    "resultsDx = [dict(x) for x in results]\n",
    "PD.DataFrame(resultsDx).head()"
   ]
  },
  {
   "cell_type": "code",
   "execution_count": 25,
   "metadata": {
    "scrolled": true
   },
   "outputs": [
    {
     "data": {
      "text/plain": [
       "<sqlalchemy.engine.cursor.LegacyCursorResult at 0x20779979e20>"
      ]
     },
     "execution_count": 25,
     "metadata": {},
     "output_type": "execute_result"
    },
    {
     "data": {
      "text/html": [
       "<div>\n",
       "<style scoped>\n",
       "    .dataframe tbody tr th:only-of-type {\n",
       "        vertical-align: middle;\n",
       "    }\n",
       "\n",
       "    .dataframe tbody tr th {\n",
       "        vertical-align: top;\n",
       "    }\n",
       "\n",
       "    .dataframe thead th {\n",
       "        text-align: right;\n",
       "    }\n",
       "</style>\n",
       "<table border=\"1\" class=\"dataframe\">\n",
       "  <thead>\n",
       "    <tr style=\"text-align: right;\">\n",
       "      <th></th>\n",
       "      <th>id</th>\n",
       "      <th>collectionId</th>\n",
       "      <th>deviantId</th>\n",
       "      <th>artistType</th>\n",
       "      <th>status</th>\n",
       "      <th>favourites</th>\n",
       "      <th>collected</th>\n",
       "      <th>downloaded</th>\n",
       "    </tr>\n",
       "  </thead>\n",
       "  <tbody>\n",
       "    <tr>\n",
       "      <th>0</th>\n",
       "      <td>561</td>\n",
       "      <td>no-id</td>\n",
       "      <td>NitroShiro</td>\n",
       "      <td>cosplay</td>\n",
       "      <td>skip</td>\n",
       "      <td>False</td>\n",
       "      <td>None</td>\n",
       "      <td>None</td>\n",
       "    </tr>\n",
       "  </tbody>\n",
       "</table>\n",
       "</div>"
      ],
      "text/plain": [
       "    id collectionId   deviantId artistType status  favourites collected  \\\n",
       "0  561        no-id  NitroShiro    cosplay   skip       False      None   \n",
       "\n",
       "  downloaded  \n",
       "0       None  "
      ]
     },
     "execution_count": 25,
     "metadata": {},
     "output_type": "execute_result"
    }
   ],
   "source": [
    "# create new artist for skipping\n",
    "\n",
    "deviantId = 'NitroShiro'\n",
    "\n",
    "try:\n",
    "    SQL.insert(artistTb).values(\n",
    "        {'deviantId': deviantId, 'artistType': 'cosplay', 'status': 'skip', }).execute() # photographer\n",
    "    #{'collectionId': 'moon.fox', 'deviantId': deviantId, 'artistType': 'cosplay', 'status': '2020-12', 'downloaded': '184'}).execute()\n",
    "except Exception as ex:\n",
    "    print(ex)\n",
    "\n",
    "statement = SQL.select(artistTb).where(artistTb.c.deviantId==deviantId)\n",
    "results = statement.execute()\n",
    "resultsDx = [dict(x) for x in results]\n",
    "PD.DataFrame(resultsDx).head()"
   ]
  },
  {
   "cell_type": "code",
   "execution_count": null,
   "metadata": {},
   "outputs": [],
   "source": []
  },
  {
   "cell_type": "code",
   "execution_count": 15,
   "metadata": {},
   "outputs": [
    {
     "data": {
      "text/plain": [
       "<sqlalchemy.engine.cursor.LegacyCursorResult at 0x207798d1d30>"
      ]
     },
     "execution_count": 15,
     "metadata": {},
     "output_type": "execute_result"
    }
   ],
   "source": [
    "\n",
    "SQL.delete(artistTb).where(artistTb.c.deviantId=='TsukiAnni').execute()"
   ]
  },
  {
   "cell_type": "code",
   "execution_count": null,
   "metadata": {},
   "outputs": [],
   "source": [
    "\n",
    "statement = SQL.update(artistTb\n",
    "        ).where(artistTb.c.deviantId=='cherryb-cosplay'\n",
    "        ).values({'deviantId': 'CherryB-Cosplay', 'downloaded': '108'})  # \n",
    "results = statement.execute()\n",
    "print(statement)\n",
    "print(f\"rows updated: {results.rowcount:,}\")"
   ]
  },
  {
   "cell_type": "code",
   "execution_count": null,
   "metadata": {},
   "outputs": [],
   "source": [
    "try:\n",
    "    SQL.insert(artistTb).values(\n",
    "        {'collectionId': 'nemu_', 'deviantId': 'Nemu013', 'artistType': 'cosplay', \n",
    "         'status': '2021-05', 'downloaded': 294}).execute()\n",
    "except Exception as ex:\n",
    "    print(ex)\n",
    "\n",
    "statement = SQL.select(artistTb).where(artistTb.c.deviantId=='Nemu013')\n",
    "results = statement.execute()\n",
    "resultsDx = [dict(x) for x in results]\n",
    "PD.DataFrame(resultsDx).head()"
   ]
  },
  {
   "cell_type": "code",
   "execution_count": null,
   "metadata": {},
   "outputs": [],
   "source": []
  }
 ],
 "metadata": {
  "kernelspec": {
   "display_name": "Python 3",
   "language": "python",
   "name": "python3"
  },
  "language_info": {
   "codemirror_mode": {
    "name": "ipython",
    "version": 3
   },
   "file_extension": ".py",
   "mimetype": "text/x-python",
   "name": "python",
   "nbconvert_exporter": "python",
   "pygments_lexer": "ipython3",
   "version": "3.8.2"
  }
 },
 "nbformat": 4,
 "nbformat_minor": 4
}
