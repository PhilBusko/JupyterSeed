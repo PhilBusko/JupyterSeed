{
 "cells": [
  {
   "cell_type": "markdown",
   "metadata": {},
   "source": [
    "# DeviantArt Scraper Development\n",
    "\n",
    "**Objective:** To create the deviantart_scraper module.\n"
   ]
  },
  {
   "cell_type": "code",
   "execution_count": 1,
   "metadata": {},
   "outputs": [],
   "source": [
    "import os, sys, json, time\n",
    "import pandas as PD\n",
    "import numpy as NP"
   ]
  },
  {
   "cell_type": "code",
   "execution_count": 2,
   "metadata": {},
   "outputs": [
    {
     "name": "stdout",
     "output_type": "stream",
     "text": [
      "C:\\Documents\\Code\\OpenStack\\Current\\MediaManager\\codebase\\pictures_manager\n"
     ]
    }
   ],
   "source": [
    "MODULE_PATH = os.path.dirname(os.getcwd())\n",
    "DATA_PATH = os.path.join(MODULE_PATH, 'data')\n",
    "LOGIC_PATH = os.path.join(MODULE_PATH, 'logic')\n",
    "sys.path.append(LOGIC_PATH)\n",
    "print(MODULE_PATH)"
   ]
  },
  {
   "cell_type": "code",
   "execution_count": 3,
   "metadata": {},
   "outputs": [
    {
     "name": "stdout",
     "output_type": "stream",
     "text": [
      "['DeviantArtScraper']\n"
     ]
    }
   ],
   "source": [
    "import deviantart_scraper as SC\n",
    "print([x for x in dir(SC) if '_' not in x and len(x) > 8])"
   ]
  },
  {
   "cell_type": "code",
   "execution_count": 4,
   "metadata": {},
   "outputs": [],
   "source": [
    "%load_ext autoreload\n",
    "%autoreload 2\n",
    "from IPython.core.interactiveshell import InteractiveShell\n",
    "InteractiveShell.ast_node_interactivity = 'all'\n",
    "import IPython.display as DS \n",
    "from ipywidgets import IntProgress"
   ]
  },
  {
   "cell_type": "markdown",
   "metadata": {},
   "source": [
    "### Scrape A Gallery"
   ]
  },
  {
   "cell_type": "code",
   "execution_count": 5,
   "metadata": {},
   "outputs": [
    {
     "name": "stdout",
     "output_type": "stream",
     "text": [
      "<selenium.webdriver.firefox.webdriver.WebDriver (session=\"84c694a6-a720-4b71-b09a-7ce5253bc41d\")>\n"
     ]
    }
   ],
   "source": [
    "\n",
    "scraper = SC.DeviantArtScraper()\n"
   ]
  },
  {
   "cell_type": "code",
   "execution_count": 6,
   "metadata": {},
   "outputs": [
    {
     "name": "stdout",
     "output_type": "stream",
     "text": [
      "https://www.deviantart.com/\n"
     ]
    }
   ],
   "source": [
    "\n",
    "scraper.logIn('collectix', 'dev1ant')\n"
   ]
  },
  {
   "cell_type": "code",
   "execution_count": 7,
   "metadata": {
    "scrolled": false
   },
   "outputs": [
    {
     "name": "stdout",
     "output_type": "stream",
     "text": [
      "images: 45\n",
      "images found: 45\n",
      "https://www.deviantart.com/dabana/art/Sketch-ballpen-609983501\n",
      "https://www.deviantart.com/dabana/art/Logan-Grimnar-607210620\n",
      "https://www.deviantart.com/dabana/art/Kagax-586912984\n",
      "https://www.deviantart.com/dabana/art/Machry-584501318\n",
      "https://www.deviantart.com/dabana/art/Pathfinder-Adventure-Path-98-Thieves-Guild-Raid-575234828\n"
     ]
    }
   ],
   "source": [
    "deviantId = 'dabana'\n",
    "artPages = scraper.getArtPages(deviantId)\n",
    "\n",
    "print(f\"images found: {len(artPages)}\")\n",
    "print(*artPages[:5], sep='\\n')"
   ]
  },
  {
   "cell_type": "code",
   "execution_count": 8,
   "metadata": {
    "scrolled": false
   },
   "outputs": [
    {
     "data": {
      "application/vnd.jupyter.widget-view+json": {
       "model_id": "ed00bef0e6954528a4eddbfb4c1a6f4b",
       "version_major": 2,
       "version_minor": 0
      },
      "text/plain": [
       "IntProgress(value=0, max=45)"
      ]
     },
     "metadata": {},
     "output_type": "display_data"
    }
   ],
   "source": [
    "collectionId = 'dabana'\n",
    "progressBar = IntProgress(min=0, max=len(artPages)) \n",
    "DS.display(progressBar) \n",
    "\n",
    "for link in artPages:\n",
    "    scraper.downloadArt(link, 'canvas', collectionId)\n",
    "    progressBar.value += 1"
   ]
  },
  {
   "cell_type": "code",
   "execution_count": 9,
   "metadata": {
    "scrolled": false
   },
   "outputs": [],
   "source": [
    "\n",
    "scraper.close()\n"
   ]
  },
  {
   "cell_type": "code",
   "execution_count": null,
   "metadata": {},
   "outputs": [],
   "source": []
  }
 ],
 "metadata": {
  "kernelspec": {
   "display_name": "Python 3",
   "language": "python",
   "name": "python3"
  },
  "language_info": {
   "codemirror_mode": {
    "name": "ipython",
    "version": 3
   },
   "file_extension": ".py",
   "mimetype": "text/x-python",
   "name": "python",
   "nbconvert_exporter": "python",
   "pygments_lexer": "ipython3",
   "version": "3.8.2"
  }
 },
 "nbformat": 4,
 "nbformat_minor": 4
}
