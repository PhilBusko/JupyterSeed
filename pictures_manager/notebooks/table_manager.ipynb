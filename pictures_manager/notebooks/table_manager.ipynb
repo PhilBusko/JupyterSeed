{
 "cells": [
  {
   "cell_type": "markdown",
   "metadata": {},
   "source": [
    "# Table Manager\n",
    "\n",
    "**Objective:** Create tables with default values, and test unique contraints.\n"
   ]
  },
  {
   "cell_type": "code",
   "execution_count": 1,
   "metadata": {},
   "outputs": [],
   "source": [
    "import os, sys, json\n",
    "import pandas as PD\n",
    "import numpy as NP"
   ]
  },
  {
   "cell_type": "code",
   "execution_count": 2,
   "metadata": {},
   "outputs": [
    {
     "name": "stdout",
     "output_type": "stream",
     "text": [
      "C:\\Documents\\Code\\OpenStack\\Current\\MediaManager\\codebase\\pictures_manager\n"
     ]
    }
   ],
   "source": [
    "MODULE_PATH = os.path.dirname(os.getcwd())\n",
    "DATA_PATH = os.path.join(MODULE_PATH, 'data')\n",
    "LOGIC_PATH = os.path.join(MODULE_PATH, 'logic')\n",
    "sys.path.append(LOGIC_PATH)\n",
    "print(MODULE_PATH)"
   ]
  },
  {
   "cell_type": "code",
   "execution_count": 3,
   "metadata": {},
   "outputs": [
    {
     "name": "stdout",
     "output_type": "stream",
     "text": [
      "['openConnection']\n",
      "sqlite:///C:\\Documents\\Code\\OpenStack\\Current\\MediaManager\\codebase\\pictures_manager\\data\\fiction.db\n"
     ]
    }
   ],
   "source": [
    "import sqlalchemy as SQL\n",
    "import database_helper as DB\n",
    "print([x for x in dir(DB) if '_' not in x and len(x) > 8])\n",
    "dbPath = os.path.join(DATA_PATH, 'fiction.db')\n",
    "meta, engine = DB.openConnection(dbPath)"
   ]
  },
  {
   "cell_type": "code",
   "execution_count": 4,
   "metadata": {},
   "outputs": [],
   "source": [
    "%load_ext autoreload\n",
    "%autoreload 2\n",
    "from IPython.core.interactiveshell import InteractiveShell\n",
    "InteractiveShell.ast_node_interactivity = 'all'\n",
    "import IPython.display as DS \n",
    "from ipywidgets import IntProgress"
   ]
  },
  {
   "cell_type": "markdown",
   "metadata": {},
   "source": [
    "### Create Tables"
   ]
  },
  {
   "cell_type": "code",
   "execution_count": 5,
   "metadata": {
    "scrolled": false
   },
   "outputs": [
    {
     "name": "stdout",
     "output_type": "stream",
     "text": [
      "[]\n"
     ]
    }
   ],
   "source": [
    "# get existing table names\n",
    "# reflect the meta again to refresh any deleted tables\n",
    "\n",
    "meta.clear()\n",
    "meta.reflect()\n",
    "\n",
    "existingTables = list(meta.tables.keys())\n",
    "print(existingTables)"
   ]
  },
  {
   "cell_type": "code",
   "execution_count": 6,
   "metadata": {},
   "outputs": [
    {
     "name": "stdout",
     "output_type": "stream",
     "text": [
      "table ArtistTracker created\n"
     ]
    }
   ],
   "source": [
    "# create table if it doesn't already exist\n",
    "# default parameter doesn't work with inserts\n",
    "# server_default requires parameter value as string\n",
    "\n",
    "tableName = 'ArtistTracker'\n",
    "\n",
    "if tableName not in existingTables:\n",
    "    setsTb = SQL.Table(tableName, meta, \n",
    "        SQL.Column('id', SQL.Integer, primary_key = True), \n",
    "        SQL.Column('collectionId', SQL.String, server_default='no-id'), \n",
    "        SQL.Column('deviantId', SQL.String, server_default='no-id'),\n",
    "        SQL.Column('artistType', SQL.String),                             # canvas, cosplay, pinup\n",
    "        SQL.Column('status', SQL.String, server_default='to-do'),         # to do, last download date, skip\n",
    "                                                                          # photographer?, inactive\n",
    "        SQL.Column('favourites', SQL.Boolean, server_default='0'),\n",
    "        SQL.Column('collected', SQL.Integer),\n",
    "        SQL.Column('downloaded', SQL.Integer),\n",
    "        SQL.UniqueConstraint('collectionId', 'deviantId', name='id_unique')\n",
    "    )\n",
    "    meta.create_all(engine)\n",
    "    print(f\"table {tableName} created\")\n",
    "\n",
    "else:\n",
    "    print(f\"table {tableName} already exists\")"
   ]
  },
  {
   "cell_type": "code",
   "execution_count": 7,
   "metadata": {},
   "outputs": [
    {
     "name": "stdout",
     "output_type": "stream",
     "text": [
      "Unconsumed column names: deviantArtId\n"
     ]
    }
   ],
   "source": [
    "# test the unique contraint\n",
    "\n",
    "artistTb = meta.tables.get(tableName)\n",
    "\n",
    "try:\n",
    "    SQL.insert(artistTb).values({'collectionId': 'test 1', 'deviantId': 'test 2'}).execute()\n",
    "except Exception as ex:\n",
    "    print(ex)"
   ]
  },
  {
   "cell_type": "code",
   "execution_count": 8,
   "metadata": {},
   "outputs": [
    {
     "data": {
      "text/plain": [
       "<sqlalchemy.engine.cursor.LegacyCursorResult at 0x289648327f0>"
      ]
     },
     "execution_count": 8,
     "metadata": {},
     "output_type": "execute_result"
    }
   ],
   "source": [
    "try:\n",
    "    SQL.insert(artistTb).values({'collectionId': 'test 3'}).execute()\n",
    "except Exception as ex:\n",
    "    print(ex)"
   ]
  },
  {
   "cell_type": "code",
   "execution_count": 9,
   "metadata": {},
   "outputs": [
    {
     "name": "stdout",
     "output_type": "stream",
     "text": [
      "(sqlite3.IntegrityError) UNIQUE constraint failed: ArtistTracker.collectionId, ArtistTracker.deviantId\n",
      "[SQL: INSERT INTO \"ArtistTracker\" (\"collectionId\") VALUES (?)]\n",
      "[parameters: ('test 3',)]\n",
      "(Background on this error at: http://sqlalche.me/e/14/gkpj)\n"
     ]
    }
   ],
   "source": [
    "try:\n",
    "    SQL.insert(artistTb).values({'collectionId': 'test 3'}).execute()\n",
    "except Exception as ex:\n",
    "    print(ex)"
   ]
  },
  {
   "cell_type": "code",
   "execution_count": 10,
   "metadata": {},
   "outputs": [
    {
     "name": "stdout",
     "output_type": "stream",
     "text": [
      "(1, 'test 3', 'no-id', None, 'to-do', False, None, None)\n"
     ]
    }
   ],
   "source": [
    "statement = SQL.select(artistTb)\n",
    "results = statement.execute().fetchall()\n",
    "print(*results[:5], sep='\\n')"
   ]
  },
  {
   "cell_type": "code",
   "execution_count": 11,
   "metadata": {},
   "outputs": [
    {
     "data": {
      "text/plain": [
       "<sqlalchemy.engine.cursor.LegacyCursorResult at 0x28964090f40>"
      ]
     },
     "execution_count": 11,
     "metadata": {},
     "output_type": "execute_result"
    },
    {
     "data": {
      "text/plain": [
       "<sqlalchemy.engine.cursor.LegacyCursorResult at 0x28964832940>"
      ]
     },
     "execution_count": 11,
     "metadata": {},
     "output_type": "execute_result"
    },
    {
     "name": "stdout",
     "output_type": "stream",
     "text": [
      "rows in table: 0\n"
     ]
    }
   ],
   "source": [
    "SQL.delete(artistTb).where(artistTb.c.collectionId=='test 1').execute()\n",
    "SQL.delete(artistTb).where(artistTb.c.collectionId=='test 3').execute()\n",
    "\n",
    "statement = SQL.select(artistTb)\n",
    "results = statement.execute().fetchall()\n",
    "print(f\"rows in table: {len(results)}\")"
   ]
  },
  {
   "cell_type": "code",
   "execution_count": 12,
   "metadata": {},
   "outputs": [],
   "source": [
    "# delete the table when needed\n",
    "# delete is not reflected in the meta\n",
    "\n",
    "# deleteTable = meta.tables.get(tableName)\n",
    "\n",
    "# if deleteTable is not None:\n",
    "#     try:\n",
    "#         deleteTable.drop(engine)\n",
    "#         print(\"table deleted\")\n",
    "#     except Exception as ex:\n",
    "#         print(ex)"
   ]
  },
  {
   "cell_type": "code",
   "execution_count": null,
   "metadata": {},
   "outputs": [],
   "source": []
  },
  {
   "cell_type": "code",
   "execution_count": null,
   "metadata": {},
   "outputs": [],
   "source": []
  }
 ],
 "metadata": {
  "kernelspec": {
   "display_name": "Python 3",
   "language": "python",
   "name": "python3"
  },
  "language_info": {
   "codemirror_mode": {
    "name": "ipython",
    "version": 3
   },
   "file_extension": ".py",
   "mimetype": "text/x-python",
   "name": "python",
   "nbconvert_exporter": "python",
   "pygments_lexer": "ipython3",
   "version": "3.8.2"
  }
 },
 "nbformat": 4,
 "nbformat_minor": 4
}
